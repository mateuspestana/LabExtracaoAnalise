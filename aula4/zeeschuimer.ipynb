{
 "cells": [
  {
   "cell_type": "code",
   "execution_count": null,
   "id": "initial_id",
   "metadata": {
    "collapsed": true
   },
   "outputs": [],
   "source": [
    "import pandas as pd\n",
    "import matplotlib.pyplot as plt\n",
    "\n",
    "pd.options.display.max_columns = 50"
   ]
  },
  {
   "cell_type": "code",
   "execution_count": null,
   "id": "e97edfc0",
   "metadata": {},
   "outputs": [],
   "source": [
    "dados = pd.read_json('../bases/olimpiadas.ndjson', lines=True)\n",
    "dados.head()"
   ]
  },
  {
   "cell_type": "code",
   "execution_count": null,
   "id": "7273d2d9",
   "metadata": {},
   "outputs": [],
   "source": [
    "dados2 = pd.json_normalize(dados['data'])\n",
    "dados2.head()"
   ]
  },
  {
   "cell_type": "code",
   "execution_count": null,
   "id": "b469322a",
   "metadata": {},
   "outputs": [],
   "source": [
    "dados2.columns"
   ]
  },
  {
   "cell_type": "code",
   "execution_count": null,
   "id": "16f6d0c9",
   "metadata": {},
   "outputs": [],
   "source": [
    "for posicao, item in enumerate(dados2.columns):\n",
    "    print(posicao, item)"
   ]
  },
  {
   "cell_type": "code",
   "execution_count": null,
   "id": "b70d5b0c",
   "metadata": {},
   "outputs": [],
   "source": [
    "dados2.head()"
   ]
  },
  {
   "cell_type": "code",
   "execution_count": null,
   "id": "fae7db5b",
   "metadata": {},
   "outputs": [],
   "source": [
    "colunas_desejadas = ['id', 'desc', 'challenges', 'createTime', 'video.duration', 'video.cover', 'author.id',\n",
    "                    'author.nickname', 'author.uniqueId','author.verified', 'music.title', 'authorStats.followingCount',\n",
    "                    'authorStats.followerCount', 'authorStats.heartCount', 'authorStats.videoCount',\n",
    "                    'authorStats.diggCount', 'authorStats.heart', 'statsV2.collectCount', 'statsV2.commentCount',\n",
    "                    'statsV2.diggCount', 'statsV2.playCount', 'statsV2.shareCount']\n",
    "\n",
    "dados3 = dados2[colunas_desejadas]\n",
    "dados3"
   ]
  },
  {
   "cell_type": "code",
   "execution_count": null,
   "id": "0a6d8a52",
   "metadata": {},
   "outputs": [],
   "source": [
    "dados3.info()"
   ]
  },
  {
   "cell_type": "code",
   "execution_count": null,
   "id": "cc7c0e88",
   "metadata": {},
   "outputs": [],
   "source": [
    "for coluna in colunas_desejadas:\n",
    "    print(f'{coluna}: {dados3[coluna][30]}')"
   ]
  },
  {
   "cell_type": "code",
   "execution_count": null,
   "id": "386a0063",
   "metadata": {},
   "outputs": [],
   "source": [
    "dados3['createdAt'] = dados3['createTime'].apply(lambda x: pd.Timestamp(x, unit='s'))\n",
    "\n",
    "def preenche_url(item):\n",
    "    return f\"https://www.tiktok.com/@{item['author.uniqueId']}/video/{item['id']}\"\n",
    "\n",
    "dados3['url'] = dados3.apply(preenche_url, axis=1)"
   ]
  },
  {
   "cell_type": "code",
   "execution_count": null,
   "id": "da1deace",
   "metadata": {},
   "outputs": [],
   "source": [
    "dados3['statsV2.diggCount'] = dados3['statsV2.diggCount'].astype(float)\n",
    "dados3['statsV2.playCount'] = dados3['statsV2.playCount'].astype(float)\n",
    "dados3['statsV2.shareCount'] = dados3['statsV2.shareCount'].astype(float)\n",
    "dados3['statsV2.commentCount'] = dados3['statsV2.commentCount'].astype(float)\n",
    "dados3['statsV2.collectCount'] = dados3['statsV2.collectCount'].astype(float)"
   ]
  },
  {
   "cell_type": "code",
   "execution_count": null,
   "id": "ead1922e",
   "metadata": {},
   "outputs": [],
   "source": [
    "indice_mais_like = dados3['statsV2.diggCount'].idxmax()\n",
    "\n",
    "print(f\"O vídeo com mais likes é: {dados3['url'][indice_mais_like]}, com {dados3['statsV2.diggCount'][indice_mais_like]} likes\")\n"
   ]
  },
  {
   "cell_type": "code",
   "execution_count": null,
   "id": "dbf2a426",
   "metadata": {},
   "outputs": [],
   "source": [
    "print(f'A média de comentários é {dados3[\"statsV2.commentCount\"].mean()}')"
   ]
  },
  {
   "cell_type": "code",
   "execution_count": null,
   "id": "46d4503f",
   "metadata": {},
   "outputs": [],
   "source": [
    "print(f'A mediana de compartilhamentos (shares) é {dados3[\"statsV2.shareCount\"].median()}')"
   ]
  },
  {
   "cell_type": "code",
   "execution_count": null,
   "id": "ab3c5b20",
   "metadata": {},
   "outputs": [],
   "source": [
    "print(f'O total de posts é {dados3.shape[0]}')"
   ]
  },
  {
   "cell_type": "markdown",
   "id": "650cf595",
   "metadata": {},
   "source": [
    "## Exercício: Raspe o Instagram e avalie quais são os nomes das variáveis e quais importam para uma análise simples"
   ]
  }
 ],
 "metadata": {
  "kernelspec": {
   "display_name": "Python 3",
   "language": "python",
   "name": "python3"
  },
  "language_info": {
   "codemirror_mode": {
    "name": "ipython",
    "version": 3
   },
   "file_extension": ".py",
   "mimetype": "text/x-python",
   "name": "python",
   "nbconvert_exporter": "python",
   "pygments_lexer": "ipython3",
   "version": "3.11.3"
  }
 },
 "nbformat": 4,
 "nbformat_minor": 5
}
