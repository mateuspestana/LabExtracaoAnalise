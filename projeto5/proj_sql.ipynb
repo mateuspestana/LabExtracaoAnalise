{
 "cells": [
  {
   "cell_type": "markdown",
   "id": "4947e86b9b866154",
   "metadata": {
    "collapsed": false
   },
   "source": [
    "# Projeto 5 - Trabalhando com dados do TSE em SQL\n",
    "\n",
    "### Prof. Matheus C. Pestana\n",
    "\n",
    "O objetivo do projeto é trabalhar com os dados do TSE em SQL. Para isso, vamos utilizar um banco de dados que contém 4 tabelas: candidatos, bens, resultados e receitas. Abaixo, as conexões do banco estão criadas, bem como o cursor. É necessário que o arquivo [aqui](https://drive.google.com/drive/folders/1LauD_ut306AnCF9Qsh-v3MkmjugfiI_L?usp=share_link) seja baixado e colocado na pasta para que o código funcione.\n",
    "\n",
    "O projeto consiste em responder as 5 perguntas abaixo listadas, utilizando o banco de dados fornecido. Cada pergunta vale 0,15, e a última, dado o nível de complexidade, vale 0,4, totalizando 1,0 ponto. "
   ]
  },
  {
   "cell_type": "code",
   "execution_count": null,
   "id": "initial_id",
   "metadata": {
    "collapsed": true
   },
   "outputs": [],
   "source": [
    "import pandas as pd\n",
    "import sqlite3\n",
    "\n",
    "conn = sqlite3.connect('TSE.sqlite')\n",
    "cursor = conn.cursor()"
   ]
  },
  {
   "cell_type": "code",
   "execution_count": 5,
   "id": "52546d9e11f025f4",
   "metadata": {
    "ExecuteTime": {
     "end_time": "2023-10-08T19:13:17.078143Z",
     "start_time": "2023-10-08T19:13:17.049765Z"
    },
    "collapsed": false
   },
   "outputs": [
    {
     "data": {
      "text/plain": [
       "[('candidatos',), ('resultados',), ('receitas',), ('bens',)]"
      ]
     },
     "execution_count": 5,
     "metadata": {},
     "output_type": "execute_result"
    }
   ],
   "source": [
    "# Lista todas as tabelas\n",
    "cursor.execute(\"SELECT name FROM sqlite_master WHERE type='table';\").fetchall()"
   ]
  },
  {
   "cell_type": "code",
   "execution_count": 12,
   "id": "f76a2482ef17764a",
   "metadata": {
    "ExecuteTime": {
     "end_time": "2023-10-08T19:34:49.345527Z",
     "start_time": "2023-10-08T19:34:49.308965Z"
    },
    "collapsed": false
   },
   "outputs": [
    {
     "data": {
      "text/html": [
       "<div>\n",
       "<style scoped>\n",
       "    .dataframe tbody tr th:only-of-type {\n",
       "        vertical-align: middle;\n",
       "    }\n",
       "\n",
       "    .dataframe tbody tr th {\n",
       "        vertical-align: top;\n",
       "    }\n",
       "\n",
       "    .dataframe thead th {\n",
       "        text-align: right;\n",
       "    }\n",
       "</style>\n",
       "<table border=\"1\" class=\"dataframe\">\n",
       "  <thead>\n",
       "    <tr style=\"text-align: right;\">\n",
       "      <th></th>\n",
       "      <th>ano</th>\n",
       "      <th>tipo_eleicao</th>\n",
       "      <th>sigla_uf</th>\n",
       "      <th>id_municipio</th>\n",
       "      <th>id_municipio_tse</th>\n",
       "      <th>id_candidato_bd</th>\n",
       "      <th>cpf</th>\n",
       "      <th>titulo_eleitoral</th>\n",
       "      <th>sequencial</th>\n",
       "      <th>numero</th>\n",
       "      <th>...</th>\n",
       "      <th>data_nascimento</th>\n",
       "      <th>idade</th>\n",
       "      <th>genero</th>\n",
       "      <th>instrucao</th>\n",
       "      <th>estado_civil</th>\n",
       "      <th>nacionalidade</th>\n",
       "      <th>sigla_uf_nascimento</th>\n",
       "      <th>municipio_nascimento</th>\n",
       "      <th>email</th>\n",
       "      <th>raca</th>\n",
       "    </tr>\n",
       "  </thead>\n",
       "  <tbody>\n",
       "    <tr>\n",
       "      <th>0</th>\n",
       "      <td>2022</td>\n",
       "      <td>eleicao ordinaria</td>\n",
       "      <td>SP</td>\n",
       "      <td>None</td>\n",
       "      <td>None</td>\n",
       "      <td>2140</td>\n",
       "      <td>32391423845</td>\n",
       "      <td>292390560141</td>\n",
       "      <td>250001640576</td>\n",
       "      <td>2122</td>\n",
       "      <td>...</td>\n",
       "      <td>5080.0</td>\n",
       "      <td>39</td>\n",
       "      <td>masculino</td>\n",
       "      <td>ensino superior completo</td>\n",
       "      <td>solteiro(a)</td>\n",
       "      <td>brasileira</td>\n",
       "      <td>SP</td>\n",
       "      <td>Catanduva</td>\n",
       "      <td>None</td>\n",
       "      <td>branca</td>\n",
       "    </tr>\n",
       "    <tr>\n",
       "      <th>1</th>\n",
       "      <td>2022</td>\n",
       "      <td>eleicao ordinaria</td>\n",
       "      <td>PR</td>\n",
       "      <td>None</td>\n",
       "      <td>None</td>\n",
       "      <td>7522</td>\n",
       "      <td>32659766886</td>\n",
       "      <td>318686160132</td>\n",
       "      <td>160001655029</td>\n",
       "      <td>2100</td>\n",
       "      <td>...</td>\n",
       "      <td>5223.0</td>\n",
       "      <td>38</td>\n",
       "      <td>masculino</td>\n",
       "      <td>ensino superior completo</td>\n",
       "      <td>casado(a)</td>\n",
       "      <td>brasileira</td>\n",
       "      <td>SP</td>\n",
       "      <td>São Paulo</td>\n",
       "      <td>None</td>\n",
       "      <td>branca</td>\n",
       "    </tr>\n",
       "    <tr>\n",
       "      <th>2</th>\n",
       "      <td>2022</td>\n",
       "      <td>eleicao ordinaria</td>\n",
       "      <td>MG</td>\n",
       "      <td>None</td>\n",
       "      <td>None</td>\n",
       "      <td>9152</td>\n",
       "      <td>32732330876</td>\n",
       "      <td>254436660183</td>\n",
       "      <td>130001644581</td>\n",
       "      <td>1655</td>\n",
       "      <td>...</td>\n",
       "      <td>5158.0</td>\n",
       "      <td>39</td>\n",
       "      <td>feminino</td>\n",
       "      <td>ensino superior completo</td>\n",
       "      <td>solteiro(a)</td>\n",
       "      <td>brasileira</td>\n",
       "      <td>SP</td>\n",
       "      <td>São Paulo</td>\n",
       "      <td>None</td>\n",
       "      <td>branca</td>\n",
       "    </tr>\n",
       "    <tr>\n",
       "      <th>3</th>\n",
       "      <td>2022</td>\n",
       "      <td>eleicao ordinaria</td>\n",
       "      <td>SP</td>\n",
       "      <td>None</td>\n",
       "      <td>None</td>\n",
       "      <td>39303</td>\n",
       "      <td>34242154810</td>\n",
       "      <td>329810830191</td>\n",
       "      <td>250001611413</td>\n",
       "      <td>1616</td>\n",
       "      <td>...</td>\n",
       "      <td>5972.0</td>\n",
       "      <td>36</td>\n",
       "      <td>masculino</td>\n",
       "      <td>ensino medio completo</td>\n",
       "      <td>casado(a)</td>\n",
       "      <td>brasileira</td>\n",
       "      <td>SP</td>\n",
       "      <td>São Paulo</td>\n",
       "      <td>None</td>\n",
       "      <td>branca</td>\n",
       "    </tr>\n",
       "    <tr>\n",
       "      <th>4</th>\n",
       "      <td>2022</td>\n",
       "      <td>eleicao ordinaria</td>\n",
       "      <td>SP</td>\n",
       "      <td>None</td>\n",
       "      <td>None</td>\n",
       "      <td>61207</td>\n",
       "      <td>35388748839</td>\n",
       "      <td>363394180141</td>\n",
       "      <td>250001611411</td>\n",
       "      <td>1610</td>\n",
       "      <td>...</td>\n",
       "      <td>7236.0</td>\n",
       "      <td>33</td>\n",
       "      <td>feminino</td>\n",
       "      <td>ensino superior completo</td>\n",
       "      <td>solteiro(a)</td>\n",
       "      <td>brasileira</td>\n",
       "      <td>SP</td>\n",
       "      <td>São Paulo</td>\n",
       "      <td>None</td>\n",
       "      <td>branca</td>\n",
       "    </tr>\n",
       "  </tbody>\n",
       "</table>\n",
       "<p>5 rows × 27 columns</p>\n",
       "</div>"
      ],
      "text/plain": [
       "    ano       tipo_eleicao sigla_uf id_municipio id_municipio_tse  \\\n",
       "0  2022  eleicao ordinaria       SP         None             None   \n",
       "1  2022  eleicao ordinaria       PR         None             None   \n",
       "2  2022  eleicao ordinaria       MG         None             None   \n",
       "3  2022  eleicao ordinaria       SP         None             None   \n",
       "4  2022  eleicao ordinaria       SP         None             None   \n",
       "\n",
       "  id_candidato_bd          cpf titulo_eleitoral    sequencial numero  ...  \\\n",
       "0            2140  32391423845     292390560141  250001640576   2122  ...   \n",
       "1            7522  32659766886     318686160132  160001655029   2100  ...   \n",
       "2            9152  32732330876     254436660183  130001644581   1655  ...   \n",
       "3           39303  34242154810     329810830191  250001611413   1616  ...   \n",
       "4           61207  35388748839     363394180141  250001611411   1610  ...   \n",
       "\n",
       "  data_nascimento idade     genero                 instrucao estado_civil  \\\n",
       "0          5080.0    39  masculino  ensino superior completo  solteiro(a)   \n",
       "1          5223.0    38  masculino  ensino superior completo    casado(a)   \n",
       "2          5158.0    39   feminino  ensino superior completo  solteiro(a)   \n",
       "3          5972.0    36  masculino     ensino medio completo    casado(a)   \n",
       "4          7236.0    33   feminino  ensino superior completo  solteiro(a)   \n",
       "\n",
       "  nacionalidade sigla_uf_nascimento  municipio_nascimento  email    raca  \n",
       "0    brasileira                  SP             Catanduva   None  branca  \n",
       "1    brasileira                  SP             São Paulo   None  branca  \n",
       "2    brasileira                  SP             São Paulo   None  branca  \n",
       "3    brasileira                  SP             São Paulo   None  branca  \n",
       "4    brasileira                  SP             São Paulo   None  branca  \n",
       "\n",
       "[5 rows x 27 columns]"
      ]
     },
     "execution_count": 12,
     "metadata": {},
     "output_type": "execute_result"
    }
   ],
   "source": [
    "# E se quiséssemos as primeiras 5 linhas da tabela de candidatos?\n",
    "pd.read_sql_query(\"SELECT * FROM candidatos LIMIT 5;\", conn)"
   ]
  },
  {
   "cell_type": "code",
   "execution_count": 14,
   "id": "d02007181a5bc0ce",
   "metadata": {
    "ExecuteTime": {
     "end_time": "2023-10-08T19:35:06.287076Z",
     "start_time": "2023-10-08T19:35:06.277436Z"
    },
    "collapsed": false
   },
   "outputs": [
    {
     "data": {
      "text/html": [
       "<div>\n",
       "<style scoped>\n",
       "    .dataframe tbody tr th:only-of-type {\n",
       "        vertical-align: middle;\n",
       "    }\n",
       "\n",
       "    .dataframe tbody tr th {\n",
       "        vertical-align: top;\n",
       "    }\n",
       "\n",
       "    .dataframe thead th {\n",
       "        text-align: right;\n",
       "    }\n",
       "</style>\n",
       "<table border=\"1\" class=\"dataframe\">\n",
       "  <thead>\n",
       "    <tr style=\"text-align: right;\">\n",
       "      <th></th>\n",
       "      <th>0</th>\n",
       "      <th>1</th>\n",
       "      <th>2</th>\n",
       "      <th>3</th>\n",
       "      <th>4</th>\n",
       "      <th>5</th>\n",
       "      <th>6</th>\n",
       "      <th>7</th>\n",
       "      <th>8</th>\n",
       "      <th>9</th>\n",
       "      <th>...</th>\n",
       "      <th>17</th>\n",
       "      <th>18</th>\n",
       "      <th>19</th>\n",
       "      <th>20</th>\n",
       "      <th>21</th>\n",
       "      <th>22</th>\n",
       "      <th>23</th>\n",
       "      <th>24</th>\n",
       "      <th>25</th>\n",
       "      <th>26</th>\n",
       "    </tr>\n",
       "  </thead>\n",
       "  <tbody>\n",
       "    <tr>\n",
       "      <th>0</th>\n",
       "      <td>2022</td>\n",
       "      <td>eleicao ordinaria</td>\n",
       "      <td>SP</td>\n",
       "      <td>None</td>\n",
       "      <td>None</td>\n",
       "      <td>2140</td>\n",
       "      <td>32391423845</td>\n",
       "      <td>292390560141</td>\n",
       "      <td>250001640576</td>\n",
       "      <td>2122</td>\n",
       "      <td>...</td>\n",
       "      <td>5080.0</td>\n",
       "      <td>39</td>\n",
       "      <td>masculino</td>\n",
       "      <td>ensino superior completo</td>\n",
       "      <td>solteiro(a)</td>\n",
       "      <td>brasileira</td>\n",
       "      <td>SP</td>\n",
       "      <td>Catanduva</td>\n",
       "      <td>None</td>\n",
       "      <td>branca</td>\n",
       "    </tr>\n",
       "    <tr>\n",
       "      <th>1</th>\n",
       "      <td>2022</td>\n",
       "      <td>eleicao ordinaria</td>\n",
       "      <td>PR</td>\n",
       "      <td>None</td>\n",
       "      <td>None</td>\n",
       "      <td>7522</td>\n",
       "      <td>32659766886</td>\n",
       "      <td>318686160132</td>\n",
       "      <td>160001655029</td>\n",
       "      <td>2100</td>\n",
       "      <td>...</td>\n",
       "      <td>5223.0</td>\n",
       "      <td>38</td>\n",
       "      <td>masculino</td>\n",
       "      <td>ensino superior completo</td>\n",
       "      <td>casado(a)</td>\n",
       "      <td>brasileira</td>\n",
       "      <td>SP</td>\n",
       "      <td>São Paulo</td>\n",
       "      <td>None</td>\n",
       "      <td>branca</td>\n",
       "    </tr>\n",
       "    <tr>\n",
       "      <th>2</th>\n",
       "      <td>2022</td>\n",
       "      <td>eleicao ordinaria</td>\n",
       "      <td>MG</td>\n",
       "      <td>None</td>\n",
       "      <td>None</td>\n",
       "      <td>9152</td>\n",
       "      <td>32732330876</td>\n",
       "      <td>254436660183</td>\n",
       "      <td>130001644581</td>\n",
       "      <td>1655</td>\n",
       "      <td>...</td>\n",
       "      <td>5158.0</td>\n",
       "      <td>39</td>\n",
       "      <td>feminino</td>\n",
       "      <td>ensino superior completo</td>\n",
       "      <td>solteiro(a)</td>\n",
       "      <td>brasileira</td>\n",
       "      <td>SP</td>\n",
       "      <td>São Paulo</td>\n",
       "      <td>None</td>\n",
       "      <td>branca</td>\n",
       "    </tr>\n",
       "    <tr>\n",
       "      <th>3</th>\n",
       "      <td>2022</td>\n",
       "      <td>eleicao ordinaria</td>\n",
       "      <td>SP</td>\n",
       "      <td>None</td>\n",
       "      <td>None</td>\n",
       "      <td>39303</td>\n",
       "      <td>34242154810</td>\n",
       "      <td>329810830191</td>\n",
       "      <td>250001611413</td>\n",
       "      <td>1616</td>\n",
       "      <td>...</td>\n",
       "      <td>5972.0</td>\n",
       "      <td>36</td>\n",
       "      <td>masculino</td>\n",
       "      <td>ensino medio completo</td>\n",
       "      <td>casado(a)</td>\n",
       "      <td>brasileira</td>\n",
       "      <td>SP</td>\n",
       "      <td>São Paulo</td>\n",
       "      <td>None</td>\n",
       "      <td>branca</td>\n",
       "    </tr>\n",
       "    <tr>\n",
       "      <th>4</th>\n",
       "      <td>2022</td>\n",
       "      <td>eleicao ordinaria</td>\n",
       "      <td>SP</td>\n",
       "      <td>None</td>\n",
       "      <td>None</td>\n",
       "      <td>61207</td>\n",
       "      <td>35388748839</td>\n",
       "      <td>363394180141</td>\n",
       "      <td>250001611411</td>\n",
       "      <td>1610</td>\n",
       "      <td>...</td>\n",
       "      <td>7236.0</td>\n",
       "      <td>33</td>\n",
       "      <td>feminino</td>\n",
       "      <td>ensino superior completo</td>\n",
       "      <td>solteiro(a)</td>\n",
       "      <td>brasileira</td>\n",
       "      <td>SP</td>\n",
       "      <td>São Paulo</td>\n",
       "      <td>None</td>\n",
       "      <td>branca</td>\n",
       "    </tr>\n",
       "  </tbody>\n",
       "</table>\n",
       "<p>5 rows × 27 columns</p>\n",
       "</div>"
      ],
      "text/plain": [
       "     0                  1   2     3     4      5            6             7   \\\n",
       "0  2022  eleicao ordinaria  SP  None  None   2140  32391423845  292390560141   \n",
       "1  2022  eleicao ordinaria  PR  None  None   7522  32659766886  318686160132   \n",
       "2  2022  eleicao ordinaria  MG  None  None   9152  32732330876  254436660183   \n",
       "3  2022  eleicao ordinaria  SP  None  None  39303  34242154810  329810830191   \n",
       "4  2022  eleicao ordinaria  SP  None  None  61207  35388748839  363394180141   \n",
       "\n",
       "             8     9   ...      17  18         19                        20  \\\n",
       "0  250001640576  2122  ...  5080.0  39  masculino  ensino superior completo   \n",
       "1  160001655029  2100  ...  5223.0  38  masculino  ensino superior completo   \n",
       "2  130001644581  1655  ...  5158.0  39   feminino  ensino superior completo   \n",
       "3  250001611413  1616  ...  5972.0  36  masculino     ensino medio completo   \n",
       "4  250001611411  1610  ...  7236.0  33   feminino  ensino superior completo   \n",
       "\n",
       "            21          22  23         24    25      26  \n",
       "0  solteiro(a)  brasileira  SP  Catanduva  None  branca  \n",
       "1    casado(a)  brasileira  SP  São Paulo  None  branca  \n",
       "2  solteiro(a)  brasileira  SP  São Paulo  None  branca  \n",
       "3    casado(a)  brasileira  SP  São Paulo  None  branca  \n",
       "4  solteiro(a)  brasileira  SP  São Paulo  None  branca  \n",
       "\n",
       "[5 rows x 27 columns]"
      ]
     },
     "execution_count": 14,
     "metadata": {},
     "output_type": "execute_result"
    }
   ],
   "source": [
    "# Ou...\n",
    "pd.DataFrame(\n",
    "    cursor.execute(\"SELECT * FROM candidatos LIMIT 5;\").fetchall()\n",
    ")"
   ]
  },
  {
   "cell_type": "markdown",
   "id": "7c531dfe3cc304a3",
   "metadata": {
    "collapsed": false
   },
   "source": [
    "## 1) Quantos candidatos foram eleitos em cada estado? Liste os estados em ordem alfabética. A tabela deve conter apenas a coluna do estado e a quantidade de eleitos. (0,15)"
   ]
  },
  {
   "cell_type": "code",
   "execution_count": 28,
   "id": "23edd81db22584df",
   "metadata": {
    "ExecuteTime": {
     "end_time": "2023-10-08T20:19:20.070597Z",
     "start_time": "2023-10-08T20:19:20.039750Z"
    },
    "collapsed": false
   },
   "outputs": [],
   "source": []
  },
  {
   "cell_type": "markdown",
   "id": "86a39aac63d3fd6f",
   "metadata": {
    "collapsed": false
   },
   "source": [
    "## 2) Qual o valor máximo, médio e mínimo de bens de cada candidato? A tabela deve constar apenas o id do candidato e o valor máximo, médio e mínimo. (0,15)"
   ]
  },
  {
   "cell_type": "code",
   "execution_count": 28,
   "id": "58ece09ede00c412",
   "metadata": {
    "ExecuteTime": {
     "end_time": "2023-10-08T20:19:20.665975Z",
     "start_time": "2023-10-08T20:19:20.664171Z"
    },
    "collapsed": false
   },
   "outputs": [],
   "source": []
  },
  {
   "cell_type": "markdown",
   "id": "8c6b98f8717ad4da",
   "metadata": {
    "collapsed": false
   },
   "source": [
    "## 3) Qual candidato a deputado federal teve mais voto por estado? Liste o nome do candidato, o estado e a quantidade de votos. A tabela de saída deve conter apenas o estado, o id do candidato, o nome de urna do candidato e a quantidade de votos. Apenas 1 candidato por estado. (0,15)"
   ]
  },
  {
   "cell_type": "code",
   "execution_count": 28,
   "id": "bdbb1630270fe132",
   "metadata": {
    "ExecuteTime": {
     "end_time": "2023-10-08T20:19:21.636454Z",
     "start_time": "2023-10-08T20:19:21.623040Z"
    },
    "collapsed": false
   },
   "outputs": [],
   "source": []
  },
  {
   "cell_type": "markdown",
   "id": "5ae40bcc0d2f1f66",
   "metadata": {
    "collapsed": false
   },
   "source": [
    "## 4) Considerando a tabela acima, repita a consulta, mas agora adicionando o nome de urna do candidato, que está presente apenas na base \"candidatos\". (0,15)"
   ]
  },
  {
   "cell_type": "code",
   "execution_count": 28,
   "id": "4ff1a94aa8462ce6",
   "metadata": {
    "ExecuteTime": {
     "end_time": "2023-10-08T20:19:22.480002Z",
     "start_time": "2023-10-08T20:19:22.478316Z"
    },
    "collapsed": false
   },
   "outputs": [],
   "source": []
  },
  {
   "cell_type": "markdown",
   "id": "c6335f9de5654dd2",
   "metadata": {
    "collapsed": false
   },
   "source": [
    "## 5) Crie uma tabela que contenha: \n",
    "\n",
    "- o id do candidato\n",
    "- o nome do candidato\n",
    "- o nome de urna do candidato\n",
    "- o partido do candidato\n",
    "- o estado do candidato\n",
    "- o total de receitas do candidato\n",
    "- o total de bens do candidato\n",
    "- o resultado do candidato (se eleito, não eleito, suplente, etc)\n",
    "- a quantidade de votos do candidato no 1º turno\n",
    "\n",
    "(0,4)"
   ]
  },
  {
   "cell_type": "code",
   "execution_count": 28,
   "id": "c4e5875c8b456d1a",
   "metadata": {
    "ExecuteTime": {
     "end_time": "2023-10-08T20:19:25.045947Z",
     "start_time": "2023-10-08T20:19:25.035366Z"
    },
    "collapsed": false
   },
   "outputs": [],
   "source": []
  }
 ],
 "metadata": {
  "kernelspec": {
   "display_name": "Python 3",
   "language": "python",
   "name": "python3"
  },
  "language_info": {
   "codemirror_mode": {
    "name": "ipython",
    "version": 2
   },
   "file_extension": ".py",
   "mimetype": "text/x-python",
   "name": "python",
   "nbconvert_exporter": "python",
   "pygments_lexer": "ipython2",
   "version": "2.7.6"
  }
 },
 "nbformat": 4,
 "nbformat_minor": 5
}
