{
 "cells": [
  {
   "cell_type": "markdown",
   "metadata": {},
   "source": [
    "# Aula 7 - Segmentação de Dados"
   ]
  },
  {
   "cell_type": "code",
   "execution_count": null,
   "metadata": {},
   "outputs": [],
   "source": [
    "import pandas as pd\n",
    "import numpy as np\n",
    "from sklearn.preprocessing import StandardScaler\n",
    "from sklearn.decomposition import PCA\n",
    "from sklearn.cluster import KMeans\n",
    "from sklearn.datasets import make_blobs\n",
    "import warnings\n",
    "warnings.filterwarnings('ignore')\n",
    "import matplotlib.pyplot as plt\n",
    "import seaborn as sns"
   ]
  },
  {
   "cell_type": "markdown",
   "metadata": {},
   "source": [
    "### Exemplo Scikit-Learn"
   ]
  },
  {
   "cell_type": "code",
   "execution_count": null,
   "metadata": {},
   "outputs": [],
   "source": [
    "import numpy as np\n",
    "from sklearn.linear_model import LinearRegression\n",
    "x = np.array([1, 2, 3, 4, 5, 6, 7, 8, 9, 10]).reshape(-1, 1)\n",
    "y = np.array([3, 5, 7, 9, 11, 13, 15, 17, 19, 21]).reshape(-1, 1)\n",
    "\n",
    "sns.scatterplot(x=x.flatten(), y=y.flatten())"
   ]
  },
  {
   "cell_type": "code",
   "execution_count": null,
   "metadata": {},
   "outputs": [],
   "source": [
    "linear = LinearRegression()\n",
    "linear.fit(x, y)\n",
    "\n",
    "m = linear.coef_[0][0]\n",
    "b = linear.intercept_[0]\n",
    "\n",
    "print(f\"Fórmula: y = {m}x + {b}\")\n",
    "\n",
    "plt.plot(x, linear.predict(x), color='red')\n",
    "plt.plot(x.flatten(), y.flatten(), 'o', color='blue')\n",
    "plt.text(6, 10, f\"y = {m}x + {b}\", fontsize=12)\n",
    "\n",
    "print(f\"Se x = 100, y = {linear.predict([[100]])}\")"
   ]
  },
  {
   "cell_type": "markdown",
   "metadata": {},
   "source": [
    "### Segmentação"
   ]
  },
  {
   "cell_type": "code",
   "execution_count": null,
   "metadata": {},
   "outputs": [],
   "source": [
    "df = pd.read_excel('../bases/clientes.xlsx')\n",
    "df"
   ]
  },
  {
   "cell_type": "code",
   "execution_count": null,
   "metadata": {},
   "outputs": [],
   "source": [
    "df['Gênero'] = df['Gênero'].map({'Feminino': 0, 'Masculino': 1})\n",
    "df['Educação'] = df['Educação'].map({'Ensino Fundamental': 1, 'Ensino Médio': 2, 'Ensino Superior': 3, 'Pós-Graduação': 4})\n",
    "\n",
    "X = df.values"
   ]
  },
  {
   "cell_type": "code",
   "execution_count": null,
   "metadata": {},
   "outputs": [],
   "source": [
    "X = df.values\n",
    "scaler = StandardScaler()\n",
    "X = scaler.fit_transform(X)\n",
    "pca = PCA(n_components=2)\n",
    "X = pca.fit_transform(X)\n",
    "\n",
    "plt.figure(figsize=(12, 6))\n",
    "sns.scatterplot(x=X[:, 0], y=X[:, 1])\n",
    "plt.show()"
   ]
  },
  {
   "cell_type": "code",
   "execution_count": null,
   "metadata": {},
   "outputs": [],
   "source": [
    "plt.figure(figsize=(12, 6))\n",
    "sns.barplot(x=['PC1', 'PC2'], y=pca.explained_variance_ratio_)\n",
    "plt.title('Variância explicada por cada componente (Scree Plot)')\n",
    "plt.show()"
   ]
  },
  {
   "cell_type": "code",
   "execution_count": null,
   "metadata": {},
   "outputs": [],
   "source": [
    "kmeans = KMeans(n_clusters=4)\n",
    "\n",
    "kmeans.fit(X)\n",
    "\n",
    "df['Cluster'] = kmeans.labels_\n",
    "\n",
    "plt.figure(figsize=(12, 6))\n",
    "sns.scatterplot(x=X[:, 0], y=X[:, 1], hue=df['Cluster'], palette='viridis')\n",
    "plt.show()"
   ]
  },
  {
   "cell_type": "code",
   "execution_count": null,
   "metadata": {},
   "outputs": [],
   "source": [
    "kmeans = KMeans(n_clusters=5)\n",
    "\n",
    "kmeans.fit(X)\n",
    "\n",
    "df['Cluster'] = kmeans.labels_\n",
    "\n",
    "plt.figure(figsize=(12, 6))\n",
    "sns.scatterplot(x=X[:, 0], y=X[:, 1], hue=df['Cluster'], palette='viridis')\n",
    "plt.show()"
   ]
  },
  {
   "cell_type": "code",
   "execution_count": null,
   "metadata": {},
   "outputs": [],
   "source": [
    "kmeans = KMeans(n_clusters=6)\n",
    "\n",
    "kmeans.fit(X)\n",
    "\n",
    "df['Cluster'] = kmeans.labels_\n",
    "\n",
    "plt.figure(figsize=(12, 6))\n",
    "sns.scatterplot(x=X[:, 0], y=X[:, 1], hue=df['Cluster'], palette='viridis')\n",
    "plt.show()"
   ]
  },
  {
   "cell_type": "code",
   "execution_count": null,
   "metadata": {},
   "outputs": [],
   "source": [
    "inercia = []\n",
    "for i in range(2, 15):\n",
    "    kmeans = KMeans(n_clusters=i)\n",
    "    kmeans.fit(X)\n",
    "    df['Cluster'] = kmeans.labels_\n",
    "    inercia.append(kmeans.inertia_)\n",
    "\n",
    "plt.figure(figsize=(12, 6))\n",
    "plt.plot(range(2, 15), inercia, marker='o')\n",
    "# plt.plot(3, inercia[1], marker='o', markersize=15, markeredgewidth=2, markerfacecolor='red', markeredgecolor='red')\n",
    "plt.xlabel('Número de Clusters')\n",
    "plt.ylabel('Inércia')\n",
    "plt.show()"
   ]
  },
  {
   "cell_type": "code",
   "execution_count": null,
   "metadata": {},
   "outputs": [],
   "source": [
    "diff = np.diff(inercia)\n",
    "maior_dif = np.argmin(diff) + 1\n",
    "print(f'O número ideal de clusters é {list(range(2, 15))[maior_dif]}')"
   ]
  },
  {
   "cell_type": "code",
   "execution_count": null,
   "metadata": {},
   "outputs": [],
   "source": [
    "kmeans = KMeans(n_clusters=3, random_state=93)\n",
    "\n",
    "kmeans.fit(X)\n",
    "\n",
    "df['Cluster'] = kmeans.labels_\n",
    "\n",
    "plt.figure(figsize=(12, 6))\n",
    "sns.scatterplot(x=X[:, 0], y=X[:, 1], hue=df['Cluster'], palette='viridis')\n",
    "plt.show()"
   ]
  },
  {
   "cell_type": "code",
   "execution_count": null,
   "metadata": {},
   "outputs": [],
   "source": [
    "df.groupby('Cluster').agg({'Idade': ['min', 'max', 'median'], 'Renda_Mensal': 'mean', 'Compras_Anuais': 'mean', 'Educação': ['min', 'max', 'median']})"
   ]
  },
  {
   "cell_type": "code",
   "execution_count": null,
   "metadata": {},
   "outputs": [],
   "source": [
    "df['Gênero'] = df['Gênero'].map({0: 'Feminino', 1: 'Masculino'})\n",
    "df['Educação'] = df['Educação'].map({1: 'Ensino Fundamental', 2: 'Ensino Médio', 3: 'Ensino Superior', 4: 'Pós-Graduação'})\n",
    "\n",
    "fig, ax = plt.subplots(nrows=3, ncols=5, figsize=(20, 15))\n",
    "\n",
    "for cluster in range(3): # Temos 3 clusters! \n",
    "    sns.countplot(data=df[df['Cluster'] == cluster], x='Gênero', ax=ax[cluster, 0], palette='viridis')\n",
    "    sns.histplot(data=df[df['Cluster'] == cluster], x='Idade', ax=ax[cluster, 1], kde=True, palette='viridis')\n",
    "    ax[cluster, 1].set_xlim(18, 70)\n",
    "    sns.histplot(data=df[df['Cluster'] == cluster], x='Compras_Anuais', ax=ax[cluster, 2], kde=True, palette='viridis', bins=5)\n",
    "    ax[cluster, 2].set_xlim(5, 50)\n",
    "    sns.histplot(data=df[df['Cluster'] == cluster], x='Renda_Mensal', ax=ax[cluster, 3], kde=True, palette='viridis')\n",
    "    ax[cluster, 3].set_xlim(1000, 20000)\n",
    "    ax[cluster, 0].set_title(f'Cluster {cluster}')\n",
    "    sns.countplot(data=df[df['Cluster'] == cluster], x='Educação', ax=ax[cluster, 4], palette='viridis')\n",
    "    ax[cluster, 4].set_xticklabels(['EF', 'EM', 'ES', 'Pós'])\n",
    "    ax[cluster, 1].set_ylabel('')\n",
    "    ax[cluster, 2].set_ylabel('')\n",
    "    ax[cluster, 3].set_ylabel('')\n",
    "    ax[cluster, 4].set_ylabel('')"
   ]
  }
 ],
 "metadata": {
  "kernelspec": {
   "display_name": ".venv",
   "language": "python",
   "name": "python3"
  },
  "language_info": {
   "codemirror_mode": {
    "name": "ipython",
    "version": 3
   },
   "file_extension": ".py",
   "mimetype": "text/x-python",
   "name": "python",
   "nbconvert_exporter": "python",
   "pygments_lexer": "ipython3",
   "version": "3.11.3"
  }
 },
 "nbformat": 4,
 "nbformat_minor": 2
}
