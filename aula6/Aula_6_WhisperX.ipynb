{
  "nbformat": 4,
  "nbformat_minor": 0,
  "metadata": {
    "colab": {
      "provenance": [],
      "gpuType": "T4"
    },
    "kernelspec": {
      "name": "python3",
      "display_name": "Python 3"
    },
    "language_info": {
      "name": "python"
    },
    "accelerator": "GPU"
  },
  "cells": [
    {
      "cell_type": "code",
      "execution_count": null,
      "metadata": {
        "id": "DfJXQBlG4C48"
      },
      "outputs": [],
      "source": [
        "!pip install git+https://github.com/m-bain/whisperx.git yt-dlp"
      ]
    },
    {
      "cell_type": "code",
      "source": [
        "url = 'https://www.youtube.com/watch?v=SZzWm4ckpos'"
      ],
      "metadata": {
        "id": "yAwWbuwk4JBX"
      },
      "execution_count": null,
      "outputs": []
    },
    {
      "cell_type": "markdown",
      "source": [
        "## Baixando o vídeo do Youtube"
      ],
      "metadata": {
        "id": "mYehr9XU5tW3"
      }
    },
    {
      "cell_type": "code",
      "source": [
        "!yt-dlp -f bestaudio -x --audio-format mp3 -o audio.mp3 $url"
      ],
      "metadata": {
        "id": "nXMhhOqK5zMi"
      },
      "execution_count": null,
      "outputs": []
    },
    {
      "cell_type": "markdown",
      "source": [
        "## Transcrevendo pelo Python"
      ],
      "metadata": {
        "id": "dmFKS80A4aSA"
      }
    },
    {
      "cell_type": "code",
      "source": [
        "import whisperx\n",
        "import gc\n",
        "import time\n",
        "\n",
        "inicio = time.time()\n",
        "model = whisperx.load_model(\"large-v3\", device='cuda', compute_type='float16', language='pt')\n",
        "\n",
        "audio = whisperx.load_audio('audio.mp3')\n",
        "result = model.transcribe(audio)\n",
        "print(f\"Tempo de execução: {time.time() - inicio} segundos\")"
      ],
      "metadata": {
        "id": "ZSF19wFC4Zqx"
      },
      "execution_count": null,
      "outputs": []
    },
    {
      "cell_type": "code",
      "source": [
        "result['segments']"
      ],
      "metadata": {
        "id": "z9VfKUvz6Xqf"
      },
      "execution_count": null,
      "outputs": []
    },
    {
      "cell_type": "code",
      "source": [
        "for item in result['segments']:\n",
        "  print(item['text'])"
      ],
      "metadata": {
        "id": "umLBrLE77KSj"
      },
      "execution_count": null,
      "outputs": []
    },
    {
      "cell_type": "code",
      "source": [
        "with open('transcricao.txt', 'w') as f:\n",
        "  for item in result['segments']:\n",
        "    f.write(item['text'] + '\\n')"
      ],
      "metadata": {
        "id": "0eO6Jyll7WEN"
      },
      "execution_count": null,
      "outputs": []
    },
    {
      "cell_type": "markdown",
      "source": [
        "## Transcrevendo pelo Terminal"
      ],
      "metadata": {
        "id": "yZjYQi469WT3"
      }
    },
    {
      "cell_type": "code",
      "source": [
        "!whisperx \"audio.mp3\" --model large-v3 --language pt"
      ],
      "metadata": {
        "id": "GQ_cYHYz7sJh"
      },
      "execution_count": null,
      "outputs": []
    },
    {
      "cell_type": "code",
      "source": [],
      "metadata": {
        "id": "6Bj7bKY79a59"
      },
      "execution_count": null,
      "outputs": []
    }
  ]
}