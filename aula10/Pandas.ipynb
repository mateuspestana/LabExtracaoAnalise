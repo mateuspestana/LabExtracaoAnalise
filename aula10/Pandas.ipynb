{
 "cells": [
  {
   "cell_type": "markdown",
   "metadata": {},
   "source": [
    "# Pandas "
   ]
  },
  {
   "cell_type": "code",
   "execution_count": null,
   "metadata": {},
   "outputs": [],
   "source": [
    "import pandas as pd\n",
    "from typing import List, Dict"
   ]
  },
  {
   "cell_type": "markdown",
   "metadata": {},
   "source": [
    "### 1) \n",
    "Escreva uma solução que crie um dataframe de uma lista com duas dimensões chamada \"dados_turma\". Essa lista contém os IDs e as idades de cada aluno. O dataframe deve ter 2 colunas, uma chamada \"ID\" e outra chamada \"Idade\", e estar na mesma ordem que a lista \"dados_turma\". O formato resultante seguirá o exemplo:\n",
    "\n",
    "> Input:\n",
    "```\n",
    "dados_turma: [[1, 18], [2, 19], [3, 21], [4, 20], [5, 20]]\n",
    "```\n",
    "\n",
    "> Output:\n",
    "\n",
    "| ID   | IDADE |\n",
    "|------|-------|\n",
    "| 1    | 18    |\n",
    "| 2    | 19    |\n",
    "| 3    | 21    |\n",
    "| 4    | 20    |\n",
    "| 5    | 20    |\n",
    "\n",
    "\n",
    "> Resolução:"
   ]
  },
  {
   "cell_type": "code",
   "execution_count": null,
   "metadata": {},
   "outputs": [],
   "source": [
    "def cria_dataframe(dados_turma: List[List[int]]) -> pd.DataFrame:\n",
    "    ### RESOLVER A PARTIR DAQUI"
   ]
  },
  {
   "cell_type": "markdown",
   "metadata": {},
   "source": [
    "> Teste:"
   ]
  },
  {
   "cell_type": "code",
   "execution_count": null,
   "metadata": {},
   "outputs": [],
   "source": [
    "# NÃO ALTERAR, APENAS EXECUTAR O CÓDIGO.\n",
    "\n",
    "dados_turma = [[1, 18], [2, 19], [3, 21], [4, 20], [5, 20]]\n",
    "print(cria_dataframe(dados_turma))"
   ]
  },
  {
   "cell_type": "markdown",
   "metadata": {},
   "source": [
    "### 2) \n",
    "Escreva uma solução para calcular e mostrar o número de linhas e colunas de um dataframe, em um formato de lista. Retorne o resultado da seguinte forma:\n",
    "\n",
    "```\n",
    "[linhas, colunas]\n",
    "```\n",
    "\n",
    "> Input:\n",
    "\n",
    "| ID   | IDADE |\n",
    "|------|-------:|\n",
    "| 1    | 18    |\n",
    "| 2    | 19    |\n",
    "| 3    | 21    |\n",
    "| 4    | 20    |\n",
    "| 5    | 20    |\n",
    "\n",
    "\n",
    "> Output:\n",
    "```\n",
    "[5, 2]\n",
    "```\n",
    "\n",
    "> Resolução:"
   ]
  },
  {
   "cell_type": "code",
   "execution_count": null,
   "metadata": {},
   "outputs": [],
   "source": [
    "def dimensoes_df(df: pd.DataFrame) -> List[int]:\n",
    "    ### RESOLVER A PARTIR DAQUI"
   ]
  },
  {
   "cell_type": "markdown",
   "metadata": {},
   "source": [
    "> Teste:"
   ]
  },
  {
   "cell_type": "code",
   "execution_count": null,
   "metadata": {},
   "outputs": [],
   "source": [
    "# NÃO ALTERAR, APENAS EXECUTAR O CÓDIGO.\n",
    "\n",
    "df = pd.read_excel('../bases/clientes.xlsx')\n",
    "print(dimensoes_df(df))"
   ]
  },
  {
   "cell_type": "markdown",
   "metadata": {},
   "source": [
    "### 3)\n",
    "Escreva uma solução que retorne as primeiras duas linhas e as últimas 3 linhas de um dataframe. O resultado deve ser um dataframe com as linhas na mesma ordem em que aparecem no dataframe original.\n",
    "\n",
    "> Input:\n",
    "\n",
    "\n",
    "| ID   | IDADE |\n",
    "|------|-------|\n",
    "| 1    | 18    |\n",
    "| 2    | 19    |\n",
    "| 3    | 21    |\n",
    "| 4    | 20    |\n",
    "| 5    | 20    |\n",
    "| 6    | 22    |\n",
    "| 7    | 23    |\n",
    "| 8    | 24    |\n",
    "\n",
    "\n",
    "> Output:\n",
    "\n",
    "| ID   | IDADE |\n",
    "|------|-------|\n",
    "| 1    | 18    |\n",
    "| 2    | 19    |\n",
    "| 6    | 22    |\n",
    "| 7    | 23    |\n",
    "| 8    | 24    |\n",
    "\n",
    "\n",
    "> Resolução:"
   ]
  },
  {
   "cell_type": "code",
   "execution_count": null,
   "metadata": {},
   "outputs": [],
   "source": [
    "df = pd.read_excel('../bases/clientes.xlsx')\n",
    "\n",
    "def primeiras_linhas_ultimas_linhas(df: pd.DataFrame) -> pd.DataFrame:\n",
    "    ### RESOLVER A PARTIR DAQUI\n"
   ]
  },
  {
   "cell_type": "markdown",
   "metadata": {},
   "source": [
    "> Teste:"
   ]
  },
  {
   "cell_type": "code",
   "execution_count": null,
   "metadata": {},
   "outputs": [],
   "source": [
    "# NÃO ALTERAR, APENAS EXECUTAR O CÓDIGO.\n",
    "\n",
    "df = pd.read_excel('../bases/clientes.xlsx')\n",
    "print(primeiras_linhas_ultimas_linhas(df))"
   ]
  },
  {
   "cell_type": "markdown",
   "metadata": {},
   "source": [
    "### 4)\n",
    "\n",
    "A empresa XYZ Enterprises teve ganhos exorbitantes no último ano. Por conta disso, vai oferecer para cada funcionário um bônus salarial que é o dobro do salário. \n",
    "\n",
    "Escreva uma solução que recebe um dataframe com os salários dos funcionários e retorna um novo dataframe com o bônus salarial de cada funcionário. O dataframe de entrada terá duas colunas, uma chamada \"ID\" e outra chamada \"Salario\". O dataframe de saída terá 4 colunas, uma chamada \"ID\", outra chamada \"Salario\", outra chamada \"Bonus\" e outra chamada \"Salario_Total\". O formato resultante seguirá o exemplo:\n",
    "\n",
    "> Input:\n",
    "\n",
    "\n",
    "| ID   | Salario |\n",
    "|------|---------:|\n",
    "| 1    | 1000    |\n",
    "| 2    | 2000    |\n",
    "| 3    | 3000    |\n",
    "| 4    | 4000    |\n",
    "| 5    | 5000    |\n",
    "\n",
    "\n",
    "\n",
    "> Output:\n",
    "\n",
    "\n",
    "| ID   | Salario | Bonus | Salario_Total|\n",
    "|------|---------:|-------:|--------------:|\n",
    "| 1    | 1000    | 2000  | 3000         |\n",
    "| 2    | 2000    | 4000  | 6000         |\n",
    "| 3    | 3000    | 6000  | 9000         |\n",
    "| 4    | 4000    | 8000  | 12000        |\n",
    "| 5    | 5000    | 10000 | 15000        |\n",
    "\n",
    "\n",
    "\n",
    "> Resolução:"
   ]
  },
  {
   "cell_type": "code",
   "execution_count": null,
   "metadata": {},
   "outputs": [],
   "source": [
    "def bonus_salarial(df: pd.DataFrame) -> pd.DataFrame:\n",
    "    ### RESOLVER A PARTIR DAQUI\n",
    "    df['Bonus'] = df['Salario'] * 2\n",
    "    df['Salario_Total'] = df['Salario'] | df['Bonus']\n",
    "    return df\n",
    "\n"
   ]
  },
  {
   "cell_type": "markdown",
   "metadata": {},
   "source": [
    "> Teste:"
   ]
  },
  {
   "cell_type": "code",
   "execution_count": null,
   "metadata": {},
   "outputs": [],
   "source": [
    "# NÃO ALTERAR, APENAS EXECUTAR O CÓDIGO.\n",
    "\n",
    "salarios = pd.read_csv('../bases/salarios.csv')\n",
    "\n",
    "print(bonus_salarial(salarios))"
   ]
  },
  {
   "cell_type": "markdown",
   "metadata": {},
   "source": [
    "### 5)\n",
    "\n",
    "Em um cadastro de usuários, temos algumas linhas duplicadas na coluna \"Email\". \n",
    "\n",
    "Escreva uma solução que recebe um dataframe com os usuários e retorna um novo dataframe sem as linhas duplicadas, mantendo a linha com a primeira aparição da duplicata. O dataframe de entrada terá três colunas, uma chamada \"ID\", uma chamada \"Nome\" e outra chamada \"Email\". O dataframe de saída terá as mesmas colunas e não terá linhas duplicadas. O formato resultante seguirá o exemplo:\n",
    "\n",
    "> Input:\n",
    "\n",
    "\n",
    "| ID   | Nome  | Email             |\n",
    "|------|-------|-------------------|\n",
    "| 1    | Joao  | joao@fgv.br       |\n",
    "| 2    | Maria | maria@fgv.br      | \n",
    "| 3    | Jose  | jose@fgv.br       |\n",
    "| 4    | Ana   | maria@fgv.br      |\n",
    "| 5    | Pedro | pedro@fgv.br      |\n",
    "\n",
    "\n",
    "> Output:\n",
    "\n",
    "\n",
    "| ID   | Nome  | Email             |\n",
    "|------|-------|-------------------|\n",
    "| 1    | Joao  | joao@fgv.br       |\n",
    "| 2    | Maria | maria@fgv.br      | \n",
    "| 3    | Jose  | jose@fgv.br       |\n",
    "| 5    | Pedro | pedro@fgv.br      |\n",
    "\n",
    "\n",
    "> Resolução:"
   ]
  },
  {
   "cell_type": "code",
   "execution_count": null,
   "metadata": {},
   "outputs": [],
   "source": [
    "def remove_duplicatas(df: pd.DataFrame) -> pd.DataFrame:\n",
    "    ### RESOLVER A PARTIR DAQUI"
   ]
  },
  {
   "cell_type": "markdown",
   "metadata": {},
   "source": [
    "> Teste:"
   ]
  },
  {
   "cell_type": "code",
   "execution_count": null,
   "metadata": {},
   "outputs": [],
   "source": [
    "# NÃO ALTERAR, APENAS EXECUTAR O CÓDIGO.\n",
    "\n",
    "emails = pd.DataFrame({\n",
    "    'ID': range(1, 6),\n",
    "    'Nome': ['João', 'Maria', 'José', 'Ana', 'Pedro'],\n",
    "    'Email': ['joao@fgv.br', 'maria@fgv.br', 'jose@fgv.br', 'maria@fgv.br', 'pedro@fgv.br']  \n",
    "})\n",
    "\n",
    "print(remove_duplicatas(emails))"
   ]
  },
  {
   "cell_type": "markdown",
   "metadata": {},
   "source": [
    "### 6)\n",
    "\n",
    "Existem algumas linhas em um dataframe que possuem valores nulos. \n",
    "\n",
    "Escreva uma solução que recebe um dataframe com valores nulos na coluna Email e retorna um novo dataframe sem as linhas que possuem valores nulos. Aproveite e renomeie a coluna \"Nome\" para \"Primeiro Nome\". O dataframe de entrada terá três colunas, uma chamada \"ID\", uma chamada \"Nome\" e outra chamada \"Email\". O dataframe de saída terá \"ID\", \"Primeiro Nome\" e \"Email\" e não terá linhas com valores nulos na coluna Email. O formato resultante seguirá o exemplo:\n",
    "\n",
    "> Input:\n",
    "\n",
    "| ID   | Nome  | Email             |\n",
    "|------|-------|-------------------|\n",
    "| 1    | Joao  | joao@fgv.br       |\n",
    "| 2    | Maria | maria@fgv.br      | \n",
    "| 3    | None  | jose@fgv.br       |\n",
    "| 4    | Ana   | None              |\n",
    "| 5    | Pedro | pedro@fgv.br      |\n",
    "\n",
    "\n",
    "\n",
    "> Output:\n",
    "\n",
    "| ID   | Primeiro Nome | Email        |\n",
    "|------|---------------|--------------|\n",
    "| 1    | Joao          | joao@fgv.br  |\n",
    "| 2    | Maria         | maria@fgv.br | \n",
    "| 3    | None          | jose@fgv.br  |\n",
    "| 5    | Pedro         | pedro@fgv.br |\n",
    "\n",
    "\n",
    "\n",
    "> Resolução:"
   ]
  },
  {
   "cell_type": "code",
   "execution_count": null,
   "metadata": {},
   "outputs": [],
   "source": [
    "def remove_NA(df: pd.DataFrame) -> pd.DataFrame:\n",
    "    ### RESOLVER A PARTIR DAQUI"
   ]
  },
  {
   "cell_type": "markdown",
   "metadata": {},
   "source": [
    "> Teste:"
   ]
  },
  {
   "cell_type": "code",
   "execution_count": null,
   "metadata": {},
   "outputs": [],
   "source": [
    "# NÃO ALTERAR, APENAS EXECUTAR O CÓDIGO.\n",
    "\n",
    "emails = pd.DataFrame({\n",
    "    'ID': range(1, 6),\n",
    "    'Nome': ['João', 'Maria', None, 'Ana', 'Pedro'],\n",
    "    'Email': ['joao@fgv.br', 'maria@fgv.br', 'jose@fgv.br', None, 'pedro@fgv.br']  \n",
    "})\n",
    "\n",
    "print(remove_duplicatas(emails))"
   ]
  },
  {
   "cell_type": "markdown",
   "metadata": {},
   "source": [
    "### 7)\n",
    "Desenvolva uma solução que recebe um dataframe com notas de alunos em formato fracionário (float) e converte para inteiro. O dataframe de entrada terá duas colunas, uma chamada \"ID\", uma chamada \"Nota\". O dataframe de saída terá as mesmas colunas e as notas convertidas para inteiro. O formato resultante seguirá o exemplo:\n",
    "\n",
    "> Input:\n",
    "\n",
    "\n",
    "| ID   | Nota  |\n",
    "|------|-------:|\n",
    "| 1    | 8.0   |\n",
    "| 2    | 9.0   |\n",
    "| 3    | 7.0   |\n",
    "| 4    | 6.0   |\n",
    "\n",
    "\n",
    "> Output:\n",
    "\n",
    "\n",
    "| ID   | Nota  |\n",
    "|------|-------:|\n",
    "| 1    | 8     |\n",
    "| 2    | 9     |\n",
    "| 3    | 7     |\n",
    "| 4    | 6     |\n",
    "\n",
    "`\n",
    "\n",
    "> Resolução:"
   ]
  },
  {
   "cell_type": "code",
   "execution_count": null,
   "metadata": {},
   "outputs": [],
   "source": [
    "def convertendo_tipos(df: pd.DataFrame) -> pd.DataFrame:\n",
    "    ### RESOLVER A PARTIR DAQUI"
   ]
  },
  {
   "cell_type": "markdown",
   "metadata": {},
   "source": [
    "> Teste:"
   ]
  },
  {
   "cell_type": "code",
   "execution_count": null,
   "metadata": {},
   "outputs": [],
   "source": [
    "df = pd.DataFrame({\n",
    "    'ID': range(1, 5),\n",
    "    'Nota': [8.0, 9.0, 7.0, 6.0]}\n",
    ")\n",
    "\n",
    "df = convertendo_tipos(df)\n",
    "df.dtypes"
   ]
  },
  {
   "cell_type": "markdown",
   "metadata": {},
   "source": [
    "### 8)\n",
    "\n",
    "A base utilizada possui valores nulos em algumas linhas da coluna Vendas. Se um produto não foi vendido, nenhum valor foi inserido na base,  o que na prática resulta em um valor nulo, mas na teoria, o valor é zero. Corrija esses valores nulos na coluna Vendas e Estoque, substituindo seu valor por zero. O dataframe de entrada terá três colunas, uma chamada \"Produto\", uma chamada \"Estoque\" e outra chamada \"Vendas\". O dataframe de saída terá as mesmas colunas e os valores nulos substituídos por zero. O formato resultante seguirá o exemplo:\n",
    "\n",
    "> Input:\n",
    "\n",
    "\n",
    "\n",
    "| Produto  | Estoque | Vendas |\n",
    "|----------|---------|--------|\n",
    "| Produto1 | 10      | 5      |\n",
    "| Produto2 | 20      | None   |\n",
    "| Produto3 | 30      | 10     |\n",
    "| Produto4 | 40      | None   |\n",
    "| None     | None    | 15     |\n",
    "\n",
    "\n",
    "\n",
    "> Output:\n",
    "\n",
    "| Produto  | Estoque | Vendas |\n",
    "|----------|---------|--------|\n",
    "| Produto1 | 10      | 5      |\n",
    "| Produto2 | 20      | 0      |\n",
    "| Produto3 | 30      | 10     |\n",
    "| Produto4 | 40      | 0      |\n",
    "| None     | 0       | 15     |\n",
    "\n",
    "> Resolução:"
   ]
  },
  {
   "cell_type": "code",
   "execution_count": null,
   "metadata": {},
   "outputs": [],
   "source": [
    "def corrigir_valores_nulos(df: pd.DataFrame) -> pd.DataFrame:\n",
    "    ### RESOLVER A PARTIR DAQUI\n"
   ]
  },
  {
   "cell_type": "markdown",
   "metadata": {},
   "source": [
    "> Teste:"
   ]
  },
  {
   "cell_type": "code",
   "execution_count": null,
   "metadata": {},
   "outputs": [],
   "source": [
    "# NÃO ALTERAR, APENAS EXECUTAR O CÓDIGO.\n",
    "import pandas as pd \n",
    "\n",
    "df = pd.DataFrame({\n",
    "    'Produto': ['Produto'|str(i) for i in range(1, 5)].append([None]),\n",
    "    'Estoque': [10, 20, 30, 40, None],\n",
    "    'Vendas': [5, None, 10, None, 15]})\n",
    "\n",
    "print(corrigir_valores_nulos(df))"
   ]
  },
  {
   "cell_type": "markdown",
   "metadata": {},
   "source": [
    "### 9)\n",
    "\n",
    "A empresa XYZ Enterprises possui dois dataframes com informações de funcionários. O primeiro dataframe possui as colunas \"ID\", \"Nome\" e \"Salario\". O segundo dataframe possui as colunas \"ID\" e \"Cargo\". Todos os funcionários aparecem em ambos os dataframes, mas em ordem diferente. Una as duas bases em um único dataframe, mantendo a ordem do primeiro dataframe. O dataframe de entrada terá as seguintes colunas:\n",
    "\n",
    "Dataframe 1:\n",
    "\n",
    "| ID   | Nome  | Salario |\n",
    "|------|-------|---------:|\n",
    "| 1    | Joao  | 1000    |\n",
    "| 2    | Maria | 2000    |\n",
    "| 3    | Jose  | 3000    |\n",
    "| 4    | Ana   | 4000    |\n",
    "| 5    | Pedro | 5000    |\n",
    "\n",
    "\n",
    "\n",
    "Dataframe 2:\n",
    "\n",
    "\n",
    "| ID   | Cargo |\n",
    "|------|-------|\n",
    "| 3    | Analista |\n",
    "| 1    | Estagiario |\n",
    "| 5    | Gerente |\n",
    "| 2    | Coordenador |\n",
    "| 4    | Diretor |\n",
    "\n",
    "\n",
    "O dataframe de saída terá as seguintes colunas:\n",
    "\n",
    "\n",
    "\n",
    "| ID   | Nome  | Salario | Cargo      |\n",
    "|------|-------|---------:|------------|\n",
    "| 1    | Joao  | 1000    | Estagiario |\n",
    "| 2    | Maria | 2000    | Coordenador|\n",
    "| 3    | Jose  | 3000    | Analista   |\n",
    "| 4    | Ana   | 4000    | Diretor    |\n",
    "| 5    | Pedro | 5000    | Gerente    |\n",
    "\n",
    "\n",
    "\n",
    "> Resolução:"
   ]
  },
  {
   "cell_type": "code",
   "execution_count": null,
   "metadata": {},
   "outputs": [],
   "source": [
    "def junta_dfs(df1: pd.DataFrame, df2: pd.DataFrame) -> pd.DataFrame:\n",
    "    ### RESOLVER A PARTIR DAQUI"
   ]
  },
  {
   "cell_type": "markdown",
   "metadata": {},
   "source": [
    "> Teste:"
   ]
  },
  {
   "cell_type": "code",
   "execution_count": null,
   "metadata": {},
   "outputs": [],
   "source": [
    "# NÃO ALTERAR, APENAS EXECUTAR O CÓDIGO.\n",
    "\n",
    "df1 = pd.DataFrame({\n",
    "    'ID': range(1, 6),\n",
    "    'Nome': ['João', 'Maria', 'José', 'Ana', 'Pedro'],\n",
    "    'Salario': [1000, 2000, 3000, 4000, 5000],\n",
    "})\n",
    "\n",
    "df2 = pd.DataFrame({\n",
    "    'ID': [3, 1, 5, 2, 4],\n",
    "    'Cargo': ['Analista', 'Estagiário', 'Gerente', 'Coordenador', 'Diretor']})\n",
    "\n",
    "print(junta_dfs(df1, df2))"
   ]
  },
  {
   "cell_type": "markdown",
   "metadata": {},
   "source": [
    "### 10)\n",
    "\n",
    "Temos uma tabela com informações da temperatura média mensal em duas cidades: Rio de Janeiro e Moscou. Em cada linha, temos uma cidade, um mês e uma temperatura. \n",
    "\n",
    "Escreva uma solução que faça um pivot nos dados, fazendo com que cada linha represente um mês e a temperatura daquele mês, e cada coluna seja uma cidade. \n",
    "\n",
    "O dataframe de entrada terá as seguintes colunas:\n",
    "\n",
    "| city           | month    | temperature |\n",
    "|----------------|----------|-------------:|\n",
    "| Rio de Janeiro | Janeiro  | 32          |\n",
    "| Rio de Janeiro | Fevereiro| 32          |\n",
    "| Rio de Janeiro | Março    | 30          |\n",
    "| Rio de Janeiro | Abril    | 28          |\n",
    "| Rio de Janeiro | Maio     | 27          |\n",
    "| Moscou         | Janeiro  | -15         |\n",
    "| Moscou         | Fevereiro| -10         |\n",
    "| Moscou         | Março    | -6          |\n",
    "| Moscou         | Abril    | 6           |\n",
    "| Moscou         | Maio     | 8           |\n",
    "\n",
    "\n",
    "\n",
    "O dataframe de saída terá as seguintes colunas:\n",
    "\n",
    "| month    | Rio de Janeiro | Moscou |\n",
    "|----------|----------------:|--------:|\n",
    "| Janeiro  | 32             | -15    |\n",
    "| Fevereiro| 32             | -10    |\n",
    "| Março    | 30             | -6     |\n",
    "| Abril    | 28             | 6      |\n",
    "| Maio     | 27             | 8      |\n",
    "\n",
    "\n",
    ">\n",
    "\n",
    "> Resolução:"
   ]
  },
  {
   "cell_type": "code",
   "execution_count": null,
   "metadata": {},
   "outputs": [],
   "source": [
    "def pivotar(df: pd.DataFrame) -> pd.DataFrame:\n",
    "    ### RESOLVER A PARTIR DAQUI"
   ]
  },
  {
   "cell_type": "markdown",
   "metadata": {},
   "source": [
    "> Teste:"
   ]
  },
  {
   "cell_type": "code",
   "execution_count": null,
   "metadata": {},
   "outputs": [],
   "source": [
    "# NÃO ALTERAR, APENAS EXECUTAR O CÓDIGO.\n",
    "\n",
    "df = pd.DataFrame({\n",
    "    'city': ['Rio de Janeiro'] * 5 + ['Moscou'] * 5,\n",
    "    'month': ['Janeiro', 'Fevereiro', 'Março', 'Abril', 'Maio'] * 2,\n",
    "    'temperature': [32, 32, 30, 28, 27, -15, -10, -6, 6, 8],\n",
    "})\n",
    "\n",
    "print(pivotar(df))"
   ]
  },
  {
   "cell_type": "markdown",
   "metadata": {},
   "source": [
    "### 11) \n",
    "\n",
    "Dada a seguinte tabela, desenvolva uma solução que:\n",
    "- Filtre os animais com mais de 2 anos de idade e mais de 100kg\n",
    "- Organize o dataframe de acordo com a idade do animal, em ordem decrescente\n",
    "- Retorne o nome dos animais que atendem aos critérios acima, no formato dataframe.\n",
    "\n",
    "> Input:\n",
    "\n",
    "| Animal | Idade | Peso |\n",
    "|--------|-------:|------:|\n",
    "| Elefante | 3 | 400 |\n",
    "| Leão | 1 | 160 |\n",
    "| Zebra | 2 | 120 |\n",
    "| Girafa | 4 | 200 |\n",
    "| Macaco | 1 | 10 |\n",
    "| Cobra | 2 | 5 |\n",
    "| Urso | 3 | 150 |\n",
    "| Rinoceronte | 5 | 450 |\n",
    "| Hipopótamo | 4 | 300 |\n",
    "\n",
    "> Output:\n",
    "\n",
    "| Animal | \n",
    "|--------| \n",
    "| Rinoceronte | \n",
    "| Elefante | \n",
    "| Hipopótamo | \n",
    "| Girafa | \n",
    "| Urso | \n",
    "\n",
    "Resolva tudo em apenas UMA linha de função.\n",
    "\n",
    "> Resolução:"
   ]
  },
  {
   "cell_type": "code",
   "execution_count": null,
   "metadata": {},
   "outputs": [],
   "source": [
    "def sort_animais(df: pd.DataFrame) -> pd.DataFrame:\n",
    "    ### RESOLVER A PARTIR DAQUI"
   ]
  },
  {
   "cell_type": "markdown",
   "metadata": {},
   "source": [
    "> Teste:"
   ]
  },
  {
   "cell_type": "code",
   "execution_count": null,
   "metadata": {},
   "outputs": [],
   "source": [
    "# NÃO ALTERAR, APENAS EXECUTAR O CÓDIGO.\n",
    "\n",
    "animais = pd.DataFrame({\n",
    "    'Animal': ['Elefante', 'Leão', 'Zebra', 'Girafa', 'Macaco', 'Cobra', 'Urso', 'Rinoceronte', 'Hipopótamo'],\n",
    "    'Idade': [3, 1, 2, 4, 1, 2, 3, 5, 4],\n",
    "    'Peso': [400, 160, 120, 200, 10, 5, 150, 450, 300]\n",
    "})\n",
    "\n",
    "print(sort_animais(animais))"
   ]
  },
  {
   "cell_type": "markdown",
   "metadata": {},
   "source": [
    "## Desafios\n",
    "\n",
    "### 1) \n",
    "\n",
    "Você receberá dois números inteiros, n e m. Retorne um inteiro que siga as seguintes regras:\n",
    "\n",
    "- num1: A soma de todos os inteiros no intervalo de 1 a n, inclusive n, que não são divisíveis por m.\n",
    "- num2: A soma de todos os inteiros no intervalo de 1 a n, inclusive n, que são divisíveis por m.\n",
    "\n",
    "Retorne num1 - num2.\n",
    "\n",
    "Exemplo: \n",
    "  - Sendo n = 10 e m = 3, os inteiros de 1 a 10 que não são divisíveis por 3 são [1, 2, 4, 5, 7, 8, 10]. Os que são divisíveis por 3 são [3, 6, 9]. A soma de num1 é 37 (1+2+4+5+7+8+10) e a soma de num2 é 18 (3+6+9). O resultado final é 37 - 18 = 19."
   ]
  },
  {
   "cell_type": "code",
   "execution_count": null,
   "metadata": {},
   "outputs": [],
   "source": [
    "def diferenca_somas(n: int, m: int) -> int:\n",
    "    ### RESOLVER A PARTIR DAQUI\n",
    "\n",
    "# NÃO ALTERAR A PARTIR DAQUI, APENAS EXECUTAR O CÓDIGO.\n",
    "print(diferenca_somas(10, 3)) # 19\n",
    "print(diferenca_somas(5, 6)) # 15\n",
    "print(diferenca_somas(5, 1)) # -15"
   ]
  },
  {
   "cell_type": "markdown",
   "metadata": {},
   "source": [
    "### 2) \n",
    "\n",
    "Numerais romanos são representados por sete diferentes símbolos: I, V, X, L, C, D e M.\n",
    "\n",
    "| Símbolo | Valor |\n",
    "|---------|-------|\n",
    "| I       | 1     |\n",
    "| V       | 5     |\n",
    "| X       | 10    |\n",
    "| L       | 50    |\n",
    "| C       | 100   |\n",
    "| D       | 500   |\n",
    "| M       | 1000  |\n",
    "\n",
    "Por exemplo, II é 2, pois somamos 1 + 1. XII é 12, pois somamos 10 + 1 + 1. \n",
    "\n",
    "Os numerais romanos são escritos da esquerda para a direita, de forma que o maior valor está sempre à esquerda. No entanto, em alguns casos, o numeral é escrito de forma que o valor menor está à esquerda. Nesse caso, o valor menor é subtraído do valor maior. Por exemplo, IV é 4, pois 5 - 1. O mesmo princípio se aplica ao número 9, que é IX: -1 + 10 = 9. \n",
    "\n",
    "Existem seis casos em que a subtração é usada:\n",
    "\n",
    "- I pode ser colocado antes de V (5) e X (10) para fazer 4 e 9.\n",
    "- X pode ser colocado antes de L (50) e C (100) para fazer 40 e 90.\n",
    "- C pode ser colocado antes de D (500) e M (1000) para fazer 400 e 900.\n",
    "\n",
    "Dado um numeral romano, desenvolva uma solução que o converte para um número inteiro. \n",
    "\n",
    "> Resolução:\n",
    "  "
   ]
  },
  {
   "cell_type": "code",
   "execution_count": null,
   "metadata": {},
   "outputs": [],
   "source": [
    "def romanToInt(s: str) -> int:\n",
    "    ### RESOLVER A PARTIR DAQUI\n",
    "\n",
    "print(romanToInt('MCMXCIV')) # 1994\n",
    "print(romanToInt('LVIII')) # 58\n",
    "print(romanToInt('IX')) # 9\n",
    "print(romanToInt('III')) # 3"
   ]
  },
  {
   "cell_type": "code",
   "execution_count": null,
   "metadata": {},
   "outputs": [],
   "source": []
  }
 ],
 "metadata": {
  "kernelspec": {
   "display_name": ".venv",
   "language": "python",
   "name": "python3"
  },
  "language_info": {
   "codemirror_mode": {
    "name": "ipython",
    "version": 3
   },
   "file_extension": ".py",
   "mimetype": "text/x-python",
   "name": "python",
   "nbconvert_exporter": "python",
   "pygments_lexer": "ipython3",
   "version": "3.12.5"
  }
 },
 "nbformat": 4,
 "nbformat_minor": 2
}
