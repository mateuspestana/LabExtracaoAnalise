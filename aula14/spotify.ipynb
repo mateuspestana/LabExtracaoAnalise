{
 "cells": [
  {
   "cell_type": "code",
   "execution_count": 5,
   "metadata": {},
   "outputs": [],
   "source": [
    "import pandas as pd\n",
    "import spotipy\n",
    "from spotipy.oauth2 import SpotifyClientCredentials\n",
    "import os\n",
    "\n",
    "os.environ[\"SPOTIPY_CLIENT_ID\"] = \"9e04471c41b346ffa25dbe5dee11c30f\"\n",
    "os.environ[\"SPOTIPY_CLIENT_SECRET\"] = \"265fcf2d368342b2ab0b49f0624d4eb2\""
   ]
  },
  {
   "cell_type": "code",
   "execution_count": 6,
   "metadata": {},
   "outputs": [],
   "source": [
    "auth_manager = SpotifyClientCredentials()\n",
    "sp = spotipy.Spotify(auth_manager=auth_manager)"
   ]
  },
  {
   "cell_type": "markdown",
   "metadata": {},
   "source": [
    "### Procurando um artista para encontrar seu ID"
   ]
  },
  {
   "cell_type": "code",
   "execution_count": null,
   "metadata": {},
   "outputs": [],
   "source": [
    "results = sp.search(q='artist:' + 'Jorge Ben Jor', type='artist')\n",
    "results"
   ]
  },
  {
   "cell_type": "code",
   "execution_count": null,
   "metadata": {},
   "outputs": [],
   "source": [
    "id_jbj = results['artists']['items'][0]['id']\n",
    "print(id_jbj)"
   ]
  },
  {
   "cell_type": "markdown",
   "metadata": {},
   "source": [
    "### Procurando albums de um artista pelo seu ID"
   ]
  },
  {
   "cell_type": "code",
   "execution_count": null,
   "metadata": {},
   "outputs": [],
   "source": [
    "albums = sp.artist_albums(id_jbj, album_type='album')\n",
    "albums"
   ]
  },
  {
   "cell_type": "code",
   "execution_count": null,
   "metadata": {},
   "outputs": [],
   "source": [
    "pd.json_normalize(albums['items'])"
   ]
  },
  {
   "cell_type": "code",
   "execution_count": null,
   "metadata": {},
   "outputs": [],
   "source": [
    "for album in albums['items']:\n",
    "    print(f\"{album['name']} - ({album['release_date']}) - {album['total_tracks']} músicas (ID: {album['id']})\")"
   ]
  },
  {
   "cell_type": "code",
   "execution_count": null,
   "metadata": {},
   "outputs": [],
   "source": [
    "albums = sp.artist_albums(id_jbj, album_type='album', offset=0, limit=50)\n",
    "for album in albums['items']:\n",
    "    print(f\"{album['name']} - ({album['release_date']}) - {album['total_tracks']} músicas (ID: {album['id']})\")"
   ]
  },
  {
   "cell_type": "code",
   "execution_count": null,
   "metadata": {},
   "outputs": [],
   "source": [
    "pd.json_normalize(albums['items'])"
   ]
  },
  {
   "cell_type": "code",
   "execution_count": null,
   "metadata": {},
   "outputs": [],
   "source": [
    "pd.json_normalize(sp.album_tracks('3xWp6y0HGsHZlXljNs7VRy')['items'])"
   ]
  },
  {
   "cell_type": "markdown",
   "metadata": {},
   "source": [
    "### Procurando os audio features de uma música específica"
   ]
  },
  {
   "cell_type": "code",
   "execution_count": null,
   "metadata": {},
   "outputs": [],
   "source": [
    "id = '6U03Orwr5Dxt8jahLnQpYV'\n",
    "features_mqn = sp.audio_features('spotify:track:' + id)\n",
    "pd.json_normalize(features_mqn)"
   ]
  },
  {
   "cell_type": "markdown",
   "metadata": {},
   "source": [
    "### Procurando outras análises da mesma música"
   ]
  },
  {
   "cell_type": "code",
   "execution_count": null,
   "metadata": {},
   "outputs": [],
   "source": [
    "analysis_mqn = sp.audio_analysis('spotify:track:' + id)\n",
    "pd.json_normalize(analysis_mqn['segments'])"
   ]
  },
  {
   "cell_type": "code",
   "execution_count": null,
   "metadata": {},
   "outputs": [],
   "source": [
    "sp.recommendation_genre_seeds()"
   ]
  },
  {
   "cell_type": "code",
   "execution_count": null,
   "metadata": {},
   "outputs": [],
   "source": [
    "recs = sp.recommendations(seed_artists=['5JYtpnUKxAzXfHEYpOeeit', '2hGh5VOeeqimQFxqXvfCUf', '7HGNYPmbDrMkylWqeFCOIQ'],\n",
    "                          seed_genres=['brazil', 'jazz'])\n",
    "recomendacoes = pd.json_normalize(recs['tracks'])\n",
    "recomendacoes['artists'] = recomendacoes['artists'].apply(lambda x: x[0]['name'])\n",
    "recomendacoes"
   ]
  },
  {
   "cell_type": "markdown",
   "metadata": {},
   "source": [
    "### Procurando playlists"
   ]
  },
  {
   "cell_type": "code",
   "execution_count": null,
   "metadata": {},
   "outputs": [],
   "source": [
    "id_playlist = 'https://open.spotify.com/playlist/2VMbgsh7bLokfzXR7E5t4X?si=eb5bbfbb163e47d2'.split('/')[-1].split('?')[0]\n",
    "id_playlist"
   ]
  },
  {
   "cell_type": "code",
   "execution_count": null,
   "metadata": {},
   "outputs": [],
   "source": [
    "playlist = sp.playlist_tracks(id_playlist, offset=200)\n",
    "pd.json_normalize(playlist['items'])"
   ]
  },
  {
   "cell_type": "markdown",
   "metadata": {},
   "source": [
    "### Procura as playlists de um usuário"
   ]
  },
  {
   "cell_type": "code",
   "execution_count": null,
   "metadata": {},
   "outputs": [],
   "source": [
    "user = 'spotify'\n",
    "playlists_mcp = sp.user_playlists(user)\n",
    "pd.json_normalize(playlists_mcp['items'])"
   ]
  },
  {
   "cell_type": "code",
   "execution_count": null,
   "metadata": {},
   "outputs": [],
   "source": []
  }
 ],
 "metadata": {
  "kernelspec": {
   "display_name": ".venv",
   "language": "python",
   "name": "python3"
  },
  "language_info": {
   "codemirror_mode": {
    "name": "ipython",
    "version": 3
   },
   "file_extension": ".py",
   "mimetype": "text/x-python",
   "name": "python",
   "nbconvert_exporter": "python",
   "pygments_lexer": "ipython3",
   "version": "3.12.5"
  }
 },
 "nbformat": 4,
 "nbformat_minor": 2
}
