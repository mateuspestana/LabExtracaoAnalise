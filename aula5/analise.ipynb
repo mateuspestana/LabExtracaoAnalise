{
 "cells": [
  {
   "cell_type": "markdown",
   "metadata": {},
   "source": [
    "# Aula 5 - Análise de Dados"
   ]
  },
  {
   "cell_type": "code",
   "execution_count": null,
   "metadata": {},
   "outputs": [],
   "source": [
    "import pandas as pd\n",
    "import numpy as np\n",
    "import matplotlib.pyplot as plt\n",
    "import seaborn as sns\n",
    "from wordcloud import WordCloud\n",
    "from collections import Counter"
   ]
  },
  {
   "cell_type": "code",
   "execution_count": null,
   "metadata": {},
   "outputs": [],
   "source": [
    "dados = pd.read_json('../bases/viajar.ndjson', lines=True)\n",
    "dados = pd.json_normalize(dados['data'])\n",
    "\n",
    "colunas_desejadas = ['id', 'desc', 'challenges', 'createTime', 'video.duration', 'video.cover', 'author.id',\n",
    "                    'author.nickname', 'author.uniqueId','author.verified', 'music.title', 'authorStats.followingCount',\n",
    "                    'authorStats.followerCount', 'authorStats.heartCount', 'authorStats.videoCount',\n",
    "                    'authorStats.diggCount', 'authorStats.heart', 'statsV2.collectCount', 'statsV2.commentCount',\n",
    "                    'statsV2.diggCount', 'statsV2.playCount', 'statsV2.shareCount']\n",
    "\n",
    "dados = dados[colunas_desejadas]\n",
    "dados['createTime'] = pd.to_datetime(dados['createTime'], unit='s')\n",
    "\n",
    "dados['statsV2.diggCount'] = dados['statsV2.diggCount'].astype(float)\n",
    "dados['statsV2.playCount'] = dados['statsV2.playCount'].astype(float)\n",
    "dados['statsV2.shareCount'] = dados['statsV2.shareCount'].astype(float)\n",
    "dados['statsV2.commentCount'] = dados['statsV2.commentCount'].astype(float)\n",
    "dados['statsV2.collectCount'] = dados['statsV2.collectCount'].astype(float)\n",
    "\n",
    "def preenche_url(item):\n",
    "    return f\"https://www.tiktok.com/@{item['author.uniqueId']}/video/{item['id']}\"\n",
    "\n",
    "dados['url'] = dados.apply(preenche_url, axis=1)"
   ]
  },
  {
   "cell_type": "markdown",
   "metadata": {},
   "source": [
    "### Análise Exploratória "
   ]
  },
  {
   "cell_type": "code",
   "execution_count": null,
   "metadata": {},
   "outputs": [],
   "source": [
    "dados.info()"
   ]
  },
  {
   "cell_type": "code",
   "execution_count": null,
   "metadata": {},
   "outputs": [],
   "source": [
    "dados.describe()"
   ]
  },
  {
   "cell_type": "code",
   "execution_count": null,
   "metadata": {},
   "outputs": [],
   "source": [
    "n_linhas, n_colunas = dados.shape\n",
    "print(f'A base tem {n_linhas} linhas e {n_colunas} colunas')"
   ]
  },
  {
   "cell_type": "code",
   "execution_count": null,
   "metadata": {},
   "outputs": [],
   "source": [
    "plt.figure(figsize=(8, 4))\n",
    "sns.set_style('darkgrid')\n",
    "sns.histplot(data=dados, x='statsV2.diggCount', bins=100, kde=True, color='green')\n",
    "plt.title('Histograma de likes')\n",
    "plt.xlabel('Número de likes')\n",
    "plt.ylabel('Número de vídeos')\n"
   ]
  },
  {
   "cell_type": "code",
   "execution_count": null,
   "metadata": {},
   "outputs": [],
   "source": [
    "plt.figure(figsize=(8, 4))\n",
    "sns.set_style('darkgrid')\n",
    "sns.histplot(data=dados, x='statsV2.commentCount', bins=50, kde=True, color='red')\n",
    "plt.title('Histograma de Comentários')\n",
    "plt.xlabel('Número de comentários')\n",
    "plt.ylabel('Número de vídeos')"
   ]
  },
  {
   "cell_type": "code",
   "execution_count": null,
   "metadata": {},
   "outputs": [],
   "source": [
    "plt.figure(figsize=(8, 4))\n",
    "sns.set_style('darkgrid')\n",
    "sns.histplot(data=dados, x='statsV2.shareCount', bins=30, kde=True, color='blue')\n",
    "plt.title('Histograma de Comentários')\n",
    "plt.xlabel('Número de comentários')\n",
    "plt.ylabel('Número de vídeos')"
   ]
  },
  {
   "cell_type": "code",
   "execution_count": null,
   "metadata": {},
   "outputs": [],
   "source": [
    "plt.figure(figsize=(8, 4))\n",
    "sns.set_style('darkgrid')\n",
    "sns.histplot(data=dados, x='video.duration', bins=30, kde=True, color='purple')\n",
    "plt.title('Histograma de Duração dos Vídeos')\n",
    "plt.xlabel('Duração em segundos')\n",
    "plt.ylabel('Número de vídeos')"
   ]
  },
  {
   "cell_type": "code",
   "execution_count": null,
   "metadata": {},
   "outputs": [],
   "source": [
    "plt.figure(figsize=(8, 4))\n",
    "sns.scatterplot(data=dados, x='statsV2.shareCount', y='statsV2.diggCount', color='purple')\n",
    "plt.title('Dispersão de likes e compartilhamentos')\n",
    "plt.xlabel('Número de compartilhamentos')\n",
    "plt.ylabel('Número de likes')\n",
    "plt.show()"
   ]
  },
  {
   "cell_type": "code",
   "execution_count": null,
   "metadata": {},
   "outputs": [],
   "source": [
    "plt.figure(figsize=(8, 4))\n",
    "sns.scatterplot(data=dados, x='statsV2.shareCount', y='statsV2.diggCount', color='purple')\n",
    "plt.title('Dispersão de likes e compartilhamentos')\n",
    "plt.xlabel('Número de compartilhamentos')\n",
    "plt.ylabel('Número de likes')\n",
    "plt.xlim(0, 80_000)\n",
    "plt.ylim(0, 400_000)"
   ]
  },
  {
   "cell_type": "code",
   "execution_count": null,
   "metadata": {},
   "outputs": [],
   "source": [
    "plt.figure(figsize=(8, 4))\n",
    "sns.regplot(data=dados, x='statsV2.shareCount', y='statsV2.diggCount', color='purple')\n",
    "plt.title('Dispersão de likes e compartilhamentos')\n",
    "plt.xlabel('Número de compartilhamentos')\n",
    "plt.ylabel('Número de likes')"
   ]
  },
  {
   "cell_type": "code",
   "execution_count": null,
   "metadata": {},
   "outputs": [],
   "source": [
    "plt.figure(figsize=(8, 4))\n",
    "sns.scatterplot(data=dados, x='statsV2.playCount', y='statsV2.commentCount', color='purple')\n",
    "plt.show()"
   ]
  },
  {
   "cell_type": "code",
   "execution_count": null,
   "metadata": {},
   "outputs": [],
   "source": [
    "sns.pairplot(data=dados, vars=['statsV2.playCount', 'statsV2.diggCount', 'statsV2.shareCount', 'statsV2.commentCount'])\n"
   ]
  },
  {
   "cell_type": "code",
   "execution_count": null,
   "metadata": {},
   "outputs": [],
   "source": [
    "dados.groupby('author.uniqueId').agg({'statsV2.diggCount': 'mean',\n",
    "                                        'statsV2.playCount': 'mean',\n",
    "                                        'statsV2.shareCount': 'mean',\n",
    "                                        'statsV2.commentCount': 'mean'}).sort_values(by='statsV2.diggCount', ascending=False).head(20)"
   ]
  },
  {
   "cell_type": "markdown",
   "metadata": {},
   "source": [
    "## Se eu fosse a VoePass, quais influencers da lista eu usaria para fazer uma campanha de marketing em prol da empresa?"
   ]
  },
  {
   "cell_type": "markdown",
   "metadata": {},
   "source": [
    "#### Tempo"
   ]
  },
  {
   "cell_type": "code",
   "execution_count": null,
   "metadata": {},
   "outputs": [],
   "source": [
    "dados['month'] = dados['createTime'].dt.to_period('M')\n",
    "plt.figure(figsize=(20, 4))\n",
    "sns.countplot(x=dados.sort_values(by='month', ascending=True)['month'], color='purple')\n",
    "plt.title('Número de vídeos por mês')\n",
    "plt.xticks(rotation=45)\n",
    "plt.show()"
   ]
  },
  {
   "cell_type": "markdown",
   "metadata": {},
   "source": [
    "### Hashtags"
   ]
  },
  {
   "cell_type": "code",
   "execution_count": null,
   "metadata": {},
   "outputs": [],
   "source": [
    "def get_hashtags(lista):\n",
    "  resultado = []\n",
    "  try:\n",
    "    for item in lista:\n",
    "      resultado.append(item['title'])\n",
    "    return resultado\n",
    "  except:\n",
    "    return resultado\n",
    "  \n",
    "dados['hashtags'] = dados['challenges'].apply(get_hashtags)\n",
    "\n",
    "pd.DataFrame(Counter(dados['hashtags'].sum()).most_common(30))"
   ]
  },
  {
   "cell_type": "code",
   "execution_count": null,
   "metadata": {},
   "outputs": [],
   "source": [
    "wordcloud = WordCloud(width=800, height=400, max_font_size=150, max_words=100, background_color='white').generate(' '.join(dados['hashtags'].sum()))\n",
    "plt.figure(figsize=(10, 8))\n",
    "plt.imshow(wordcloud, interpolation='bilinear')\n",
    "plt.axis('off')\n",
    "plt.show()"
   ]
  },
  {
   "cell_type": "code",
   "execution_count": null,
   "metadata": {},
   "outputs": [],
   "source": []
  }
 ],
 "metadata": {
  "kernelspec": {
   "display_name": ".venv",
   "language": "python",
   "name": "python3"
  },
  "language_info": {
   "codemirror_mode": {
    "name": "ipython",
    "version": 3
   },
   "file_extension": ".py",
   "mimetype": "text/x-python",
   "name": "python",
   "nbconvert_exporter": "python",
   "pygments_lexer": "ipython3",
   "version": "3.11.3"
  }
 },
 "nbformat": 4,
 "nbformat_minor": 2
}
