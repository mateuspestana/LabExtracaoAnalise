{
 "cells": [
  {
   "cell_type": "markdown",
   "metadata": {},
   "source": [
    "# Projeto 3 - Resultados da Rússia\n",
    "\n",
    "Baixar todos os resultados da seção Results (resultados por partido) das eleições legislativas russas entre 1993 e 2016 (inclusive).\n",
    "\n",
    "Salvar cada ano em uma planilha do Excel.\n",
    "\n",
    "Enviar pelo Teams o notebook com o código (já iniciado aqui) e os arquivos zipados do Excel.\n",
    "\n",
    "Valor: 1,0"
   ]
  },
  {
   "cell_type": "code",
   "execution_count": null,
   "metadata": {},
   "outputs": [],
   "source": [
    "import time\n",
    "import requests\n",
    "import numpy as np\n",
    "import pandas as pd\n",
    "from bs4 import BeautifulSoup\n",
    "from tqdm import tqdm\n",
    "import re\n",
    "\n",
    "session = requests.Session()\n",
    "url = 'https://en.wikipedia.org/wiki/2021_Russian_legislative_election'\n"
   ]
  }
 ],
 "metadata": {
  "kernelspec": {
   "display_name": ".venv",
   "language": "python",
   "name": "python3"
  },
  "language_info": {
   "codemirror_mode": {
    "name": "ipython",
    "version": 3
   },
   "file_extension": ".py",
   "mimetype": "text/x-python",
   "name": "python",
   "nbconvert_exporter": "python",
   "pygments_lexer": "ipython3",
   "version": "3.12.5"
  }
 },
 "nbformat": 4,
 "nbformat_minor": 2
}
