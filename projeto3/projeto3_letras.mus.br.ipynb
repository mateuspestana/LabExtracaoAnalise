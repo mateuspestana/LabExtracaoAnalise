{
 "cells": [
  {
   "cell_type": "markdown",
   "metadata": {},
   "source": [
    "# Projeto Letras.mus.br\n",
    "\n",
    "Criar uma função que recebe o nome de um artista e o nome de uma música e retorna um dataframe com todas as letras do artista. \n",
    "\n",
    "O dataframe deve ter o nome do cantor(a), titulo da musica, letra da musica, número de exibições e link.\n",
    "\n",
    "Enviar pelo Teams o notebook com o código (já iniciado aqui) e os 5 arquivos de Excel com os resultados para \n",
    "\n",
    "- Jorge Ben Jor\n",
    "- Sabrina Carpenter\n",
    "- Liniker\n",
    "- Andrea Bocelli \n",
    "- Mais um artista a sua escolha que tenha mais de 50 letras.\n",
    "  \n",
    "Valor: 1,0"
   ]
  },
  {
   "cell_type": "code",
   "execution_count": null,
   "metadata": {},
   "outputs": [],
   "source": [
    "import time\n",
    "import requests\n",
    "import numpy as np\n",
    "import pandas as pd\n",
    "from bs4 import BeautifulSoup\n",
    "from tqdm import tqdm\n",
    "import re\n",
    "\n",
    "site = 'https://www.letras.mus.br'"
   ]
  },
  {
   "cell_type": "code",
   "execution_count": null,
   "metadata": {},
   "outputs": [],
   "source": [
    "def baixaLetras(artista: str) -> pd.DataFrame:\n",
    "    \"\"\"\n",
    "    Função que baixa as letras de um artista\n",
    "    \"\"\"\n",
    "    # COMPLETAR AQUI\n",
    "    \n",
    "    return df\n"
   ]
  },
  {
   "cell_type": "code",
   "execution_count": null,
   "metadata": {},
   "outputs": [],
   "source": []
  }
 ],
 "metadata": {
  "kernelspec": {
   "display_name": ".venv",
   "language": "python",
   "name": "python3"
  },
  "language_info": {
   "codemirror_mode": {
    "name": "ipython",
    "version": 3
   },
   "file_extension": ".py",
   "mimetype": "text/x-python",
   "name": "python",
   "nbconvert_exporter": "python",
   "pygments_lexer": "ipython3",
   "version": "3.12.5"
  }
 },
 "nbformat": 4,
 "nbformat_minor": 2
}
