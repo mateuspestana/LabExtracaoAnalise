{
 "cells": [
  {
   "cell_type": "markdown",
   "metadata": {},
   "source": [
    "# Lista 2\n",
    "\n",
    "## Exercício 1\n",
    "\n",
    "Considere uma tabela com as seguintes variáveis:\n",
    "\n",
    "| Variável | Tipo |\n",
    "|----------|------|\n",
    "| nome_país | str |\n",
    "| continente | str|\n",
    "| area     | float|\n",
    "| populacao | str  |\n",
    "| pib     | float|\n",
    "\n",
    "\n",
    "Um país é considerado grande se:\n",
    "- sua área é de pelo menos 3 milhões de km2 (3.000.000 km2), ou\n",
    "- sua população é de pelo menos 25 milhões de pessoas.\n",
    "\n",
    "Escreva uma solução que retorne o nome, a população e a área dos países que são considerados grandes. A saída deve ser um dataframe com as colunas na ordem \"área, nome, população\". "
   ]
  },
  {
   "cell_type": "code",
   "execution_count": 9,
   "metadata": {},
   "outputs": [
    {
     "data": {
      "text/html": [
       "<div>\n",
       "<style scoped>\n",
       "    .dataframe tbody tr th:only-of-type {\n",
       "        vertical-align: middle;\n",
       "    }\n",
       "\n",
       "    .dataframe tbody tr th {\n",
       "        vertical-align: top;\n",
       "    }\n",
       "\n",
       "    .dataframe thead th {\n",
       "        text-align: right;\n",
       "    }\n",
       "</style>\n",
       "<table border=\"1\" class=\"dataframe\">\n",
       "  <thead>\n",
       "    <tr style=\"text-align: right;\">\n",
       "      <th></th>\n",
       "      <th>nome_país</th>\n",
       "      <th>continente</th>\n",
       "      <th>area</th>\n",
       "      <th>populacao</th>\n",
       "    </tr>\n",
       "  </thead>\n",
       "  <tbody>\n",
       "    <tr>\n",
       "      <th>0</th>\n",
       "      <td>Afeganistão</td>\n",
       "      <td>Ásia</td>\n",
       "      <td>652230</td>\n",
       "      <td>25500100</td>\n",
       "    </tr>\n",
       "    <tr>\n",
       "      <th>2</th>\n",
       "      <td>Algeria</td>\n",
       "      <td>África</td>\n",
       "      <td>2381741</td>\n",
       "      <td>37100000</td>\n",
       "    </tr>\n",
       "  </tbody>\n",
       "</table>\n",
       "</div>"
      ],
      "text/plain": [
       "     nome_país continente     area  populacao\n",
       "0  Afeganistão       Ásia   652230   25500100\n",
       "2      Algeria     África  2381741   37100000"
      ]
     },
     "execution_count": 9,
     "metadata": {},
     "output_type": "execute_result"
    }
   ],
   "source": [
    "import pandas as pd\n",
    "\n",
    "def big_countries(world: pd.DataFrame) -> pd.DataFrame:\n",
    "    # RESOLVA\n",
    "\n",
    "\n",
    "\n",
    "# Teste (NÃO ALTERAR)\n",
    "world = pd.DataFrame({\n",
    "    'nome_país': ['Afeganistão', 'Albania', 'Algeria', 'Andorra', 'Angola'],\n",
    "    'continente': ['Ásia', 'Europa', 'África', 'Europa', 'África'],\n",
    "    'area': [652230, 28748, 2381741, 468, 1246700],\n",
    "    'populacao': ['25500100', '2831741', '37100000', '78115', '20609294']\n",
    "})\n",
    "\n",
    "big_countries(world)"
   ]
  },
  {
   "cell_type": "markdown",
   "metadata": {},
   "source": [
    "## Exercício 2\n",
    "\n",
    "Considere duas tabelas com as seguintes variáveis:\n",
    "\n",
    "#### Customers\n",
    "\n",
    "| Variável | Tipo |\n",
    "|----------|------|\n",
    "| id | int |\n",
    "| nome | str |\n",
    "\n",
    "\n",
    "#### Orders\n",
    "\n",
    "| Variável | Tipo |\n",
    "|----------|------|\n",
    "| id | int |\n",
    "| customer_id | int |\n",
    "\n",
    "Na tabela `Customers`, `id` indica o identificador de cada cliente. Já na tabela `Orders`, `id` se refere ao identificador de cada pedido, enquanto `customer_id` indica o cliente que fez o pedido. Cada linha indica um pedido. \n",
    "\n",
    "Escreva uma solução que retorne o nome dos clientes que nunca fizeram nenhuma compra. A saíde deve ser um dataframe com a coluna \"nome\". \n",
    "\n"
   ]
  },
  {
   "cell_type": "code",
   "execution_count": 10,
   "metadata": {},
   "outputs": [
    {
     "data": {
      "text/html": [
       "<div>\n",
       "<style scoped>\n",
       "    .dataframe tbody tr th:only-of-type {\n",
       "        vertical-align: middle;\n",
       "    }\n",
       "\n",
       "    .dataframe tbody tr th {\n",
       "        vertical-align: top;\n",
       "    }\n",
       "\n",
       "    .dataframe thead th {\n",
       "        text-align: right;\n",
       "    }\n",
       "</style>\n",
       "<table border=\"1\" class=\"dataframe\">\n",
       "  <thead>\n",
       "    <tr style=\"text-align: right;\">\n",
       "      <th></th>\n",
       "      <th>nome</th>\n",
       "    </tr>\n",
       "  </thead>\n",
       "  <tbody>\n",
       "    <tr>\n",
       "      <th>3</th>\n",
       "      <td>Léo Pelé</td>\n",
       "    </tr>\n",
       "  </tbody>\n",
       "</table>\n",
       "</div>"
      ],
      "text/plain": [
       "       nome\n",
       "3  Léo Pelé"
      ]
     },
     "execution_count": 10,
     "metadata": {},
     "output_type": "execute_result"
    }
   ],
   "source": [
    "def zero_pedidos(customers: pd.DataFrame, orders: pd.DataFrame) -> pd.DataFrame:\n",
    "    # RESOLVA\n",
    "\n",
    "\n",
    "\n",
    "# Teste (NÃO ALTERAR)\n",
    "customers = pd.DataFrame({\n",
    "    'id': [1, 2, 3, 4, 5],\n",
    "    'nome': ['João', 'Dimitri Payet', 'Pablo Vegetti', 'Léo Pelé', 'Philippe Coutinho']\n",
    "})\n",
    "\n",
    "orders = pd.DataFrame({\n",
    "    'order_id': [1, 2, 3, 4],\n",
    "    'customer_id': [1, 2, 3, 5]\n",
    "})\n",
    "\n",
    "zero_pedidos(customers, orders)"
   ]
  },
  {
   "cell_type": "markdown",
   "metadata": {},
   "source": [
    "## Exercício 3\n",
    "\n",
    "Considere uma tabela, extraída da rede social \"Y\" com as seguintes variáveis:\n",
    "\n",
    "| Variável | Tipo |\n",
    "|----------|------|\n",
    "| y_id | int |\n",
    "| text | str |\n",
    "\n",
    "Na rede Y, as postagens se denominam \"Uai\". Um \"uai\" só pode ter até 18 caracteres, incluindo espaços em branco. \n",
    "\n",
    "Escreva uma solução que, dado um conjunto de uais, exiba apenas os uais inválidos, ou seja, com mais de 15 caracteres, retornando apenas as colunas y_id e text. "
   ]
  },
  {
   "cell_type": "code",
   "execution_count": 11,
   "metadata": {},
   "outputs": [
    {
     "data": {
      "text/html": [
       "<div>\n",
       "<style scoped>\n",
       "    .dataframe tbody tr th:only-of-type {\n",
       "        vertical-align: middle;\n",
       "    }\n",
       "\n",
       "    .dataframe tbody tr th {\n",
       "        vertical-align: top;\n",
       "    }\n",
       "\n",
       "    .dataframe thead th {\n",
       "        text-align: right;\n",
       "    }\n",
       "</style>\n",
       "<table border=\"1\" class=\"dataframe\">\n",
       "  <thead>\n",
       "    <tr style=\"text-align: right;\">\n",
       "      <th></th>\n",
       "      <th>y_id</th>\n",
       "      <th>text</th>\n",
       "    </tr>\n",
       "  </thead>\n",
       "  <tbody>\n",
       "    <tr>\n",
       "      <th>1</th>\n",
       "      <td>2</td>\n",
       "      <td>Let us make America great again</td>\n",
       "    </tr>\n",
       "    <tr>\n",
       "      <th>3</th>\n",
       "      <td>4</td>\n",
       "      <td>terça tem evento na FGV 🚀</td>\n",
       "    </tr>\n",
       "    <tr>\n",
       "      <th>4</th>\n",
       "      <td>5</td>\n",
       "      <td>Quero ver derrubarem o Y</td>\n",
       "    </tr>\n",
       "  </tbody>\n",
       "</table>\n",
       "</div>"
      ],
      "text/plain": [
       "   y_id                             text\n",
       "1     2  Let us make America great again\n",
       "3     4        terça tem evento na FGV 🚀\n",
       "4     5         Quero ver derrubarem o Y"
      ]
     },
     "execution_count": 11,
     "metadata": {},
     "output_type": "execute_result"
    }
   ],
   "source": [
    "def uais_invalidos(uai: pd.DataFrame) -> pd.DataFrame:\n",
    "    # RESOLVA\n",
    "\n",
    "\n",
    "# Teste (NÃO ALTERAR)\n",
    "uais = pd.DataFrame({\n",
    "    'y_id': [1, 2, 3, 4, 5],\n",
    "    'text': [\n",
    "        'Vote for Biden',\n",
    "        'Let us make America great again',\n",
    "        'Quem é Elon Musk?',\n",
    "        'terça tem evento na FGV 🚀',\n",
    "        'Quero ver derrubarem o Y'\n",
    "    ]\n",
    "})\n",
    "\n",
    "uais_invalidos(uais)"
   ]
  },
  {
   "cell_type": "markdown",
   "metadata": {},
   "source": [
    "## Exercício 4\n",
    "\n",
    "Dada a seguinte tabela:\n",
    "\n",
    "| Variável | Tipo |\n",
    "|----------|------|\n",
    "| id_funcionario | int |\n",
    "| nome | str |\n",
    "| salario | int |\n",
    "\n",
    "Escreva uma solução que calcule um bônus salarial para cada funcionário. O bônus é 100% do salário se o ID do funcionário for ímpar e o nome não começar com M. Nesses casos, o bônus é de apenas 10%. Retorne um dataframe com as colunas `id_empregado` e `bonus`. Você pode usar a biblioteca Numpy. "
   ]
  },
  {
   "cell_type": "code",
   "execution_count": 12,
   "metadata": {},
   "outputs": [
    {
     "data": {
      "text/html": [
       "<div>\n",
       "<style scoped>\n",
       "    .dataframe tbody tr th:only-of-type {\n",
       "        vertical-align: middle;\n",
       "    }\n",
       "\n",
       "    .dataframe tbody tr th {\n",
       "        vertical-align: top;\n",
       "    }\n",
       "\n",
       "    .dataframe thead th {\n",
       "        text-align: right;\n",
       "    }\n",
       "</style>\n",
       "<table border=\"1\" class=\"dataframe\">\n",
       "  <thead>\n",
       "    <tr style=\"text-align: right;\">\n",
       "      <th></th>\n",
       "      <th>id_empregado</th>\n",
       "      <th>bonus</th>\n",
       "    </tr>\n",
       "  </thead>\n",
       "  <tbody>\n",
       "    <tr>\n",
       "      <th>0</th>\n",
       "      <td>1</td>\n",
       "      <td>9000.0</td>\n",
       "    </tr>\n",
       "    <tr>\n",
       "      <th>1</th>\n",
       "      <td>2</td>\n",
       "      <td>1000.0</td>\n",
       "    </tr>\n",
       "    <tr>\n",
       "      <th>2</th>\n",
       "      <td>3</td>\n",
       "      <td>9500.0</td>\n",
       "    </tr>\n",
       "    <tr>\n",
       "      <th>3</th>\n",
       "      <td>4</td>\n",
       "      <td>999.9</td>\n",
       "    </tr>\n",
       "    <tr>\n",
       "      <th>4</th>\n",
       "      <td>5</td>\n",
       "      <td>8998.0</td>\n",
       "    </tr>\n",
       "    <tr>\n",
       "      <th>5</th>\n",
       "      <td>6</td>\n",
       "      <td>411.1</td>\n",
       "    </tr>\n",
       "  </tbody>\n",
       "</table>\n",
       "</div>"
      ],
      "text/plain": [
       "   id_empregado   bonus\n",
       "0             1  9000.0\n",
       "1             2  1000.0\n",
       "2             3  9500.0\n",
       "3             4   999.9\n",
       "4             5  8998.0\n",
       "5             6   411.1"
      ]
     },
     "execution_count": 12,
     "metadata": {},
     "output_type": "execute_result"
    }
   ],
   "source": [
    "import numpy as np\n",
    "\n",
    "def bonus(funcionarios: pd.DataFrame) -> pd.DataFrame:\n",
    "    # RESOLVA\n",
    "\n",
    "\n",
    "funcionarios = pd.DataFrame({\n",
    "    'id_empregado': [1, 2, 3, 4, 5, 6],\n",
    "    'nome': ['Matheus', 'Marcela', 'Catarina', 'Clarissa', 'Lindsey', 'Maria'],\n",
    "    'salario': [90_000, 10_000, 9_500, 9_999, 8_998, 4_111]\n",
    "})\n",
    "\n",
    "bonus(funcionarios)"
   ]
  },
  {
   "cell_type": "markdown",
   "metadata": {},
   "source": [
    "## Exercício 5\n",
    "\n",
    "Um email válido contém:\n",
    "\n",
    "- um prefixo\n",
    "- um arroba\n",
    "- um domínio\n",
    "\n",
    "O prefixo (matheus.pestana, em matheus.pestana@fgv.br) pode conter letras, números, underscore ('_'), ponto e/ou hífen ('-'). O prefixo também precisa começar com uma letra. \n",
    "\n",
    "O domínio é @fgv.br\n",
    "\n",
    "Dado um dataframe, retorne um outro dataframe que mostre o id, o nome e o email dos usuários válidos. Utilize RegEx."
   ]
  },
  {
   "cell_type": "code",
   "execution_count": 14,
   "metadata": {},
   "outputs": [
    {
     "data": {
      "text/html": [
       "<div>\n",
       "<style scoped>\n",
       "    .dataframe tbody tr th:only-of-type {\n",
       "        vertical-align: middle;\n",
       "    }\n",
       "\n",
       "    .dataframe tbody tr th {\n",
       "        vertical-align: top;\n",
       "    }\n",
       "\n",
       "    .dataframe thead th {\n",
       "        text-align: right;\n",
       "    }\n",
       "</style>\n",
       "<table border=\"1\" class=\"dataframe\">\n",
       "  <thead>\n",
       "    <tr style=\"text-align: right;\">\n",
       "      <th></th>\n",
       "      <th>user_id</th>\n",
       "      <th>name</th>\n",
       "      <th>email</th>\n",
       "    </tr>\n",
       "  </thead>\n",
       "  <tbody>\n",
       "    <tr>\n",
       "      <th>0</th>\n",
       "      <td>1</td>\n",
       "      <td>Thiago</td>\n",
       "      <td>thiago123@fgv.br</td>\n",
       "    </tr>\n",
       "    <tr>\n",
       "      <th>4</th>\n",
       "      <td>5</td>\n",
       "      <td>William</td>\n",
       "      <td>will_iam@fgv.br</td>\n",
       "    </tr>\n",
       "  </tbody>\n",
       "</table>\n",
       "</div>"
      ],
      "text/plain": [
       "   user_id     name             email\n",
       "0        1   Thiago  thiago123@fgv.br\n",
       "4        5  William   will_iam@fgv.br"
      ]
     },
     "execution_count": 14,
     "metadata": {},
     "output_type": "execute_result"
    }
   ],
   "source": [
    "def emails_validos(users: pd.DataFrame) -> pd.DataFrame:\n",
    "    # RESOLVA \n",
    "\n",
    "\n",
    "# Teste (NÃO ALTERAR)\n",
    "users = pd.DataFrame({\n",
    "    'user_id': [1, 2, 3, 4, 5],\n",
    "    'name': ['Thiago', 'Marcos', 'Francisco', 'Ana', 'William'],\n",
    "    'email': ['thiago123@fgv.br', '9marcos@fgv.br', 'francisc#o@fgv.br', 'ana_clara@fgv.com', 'will_iam@fgv.br']\n",
    "})\n",
    "\n",
    "emails_validos(users)"
   ]
  },
  {
   "cell_type": "markdown",
   "metadata": {},
   "source": [
    "## Exercício 6 \n",
    "\n",
    "Em uma empresa, é possível separar os analistas em 4 categorias: Estagiário, Júnior, Pleno e Sênior. Além da experiência e capacidade, tais categorias refletem no salário desses funcionários.\n",
    "\n",
    "Um Estagiário ganha até 1500 reais, um Júnior ganha de 1500 a 4500 reais, um Pleno ganha 4500 a 7500 reais e um Sênior entre 7500 reais e 12000.\n",
    "\n",
    "Dada a seguinte tabela:\n",
    "\n",
    "| Variável | Tipo |\n",
    "|----------|------|\n",
    "| id_funcionario | int |\n",
    "| nome | str |\n",
    "| salario | int |\n",
    "\n",
    "Escreva uma solução que retorne um dataframe com a proporção de funcionários por categoria. Se uma categoria não tiver funcionários, ela deve retornar 0."
   ]
  },
  {
   "cell_type": "code",
   "execution_count": 30,
   "metadata": {},
   "outputs": [
    {
     "data": {
      "text/plain": [
       "categoria\n",
       "Junior        0.6\n",
       "Pleno         0.3\n",
       "Senior        0.1\n",
       "Estagiário    0.0\n",
       "Name: proportion, dtype: float64"
      ]
     },
     "execution_count": 30,
     "metadata": {},
     "output_type": "execute_result"
    }
   ],
   "source": [
    "def categoriza_funcionarios(funcionarios: pd.DataFrame) -> pd.DataFrame:\n",
    "    # RESOLVA\n",
    "\n",
    "# Teste (NÃO ALTERAR)\n",
    "funcionarios = pd.DataFrame({\n",
    "    'id': [1, 2, 3, 4, 5, 6, 7, 8, 9, 10],\n",
    "    'salario': [1501, 3600, 4510, 1600, 1550, 3500, 5000, 10000, 2000, 6000]\n",
    "})\n",
    "\n",
    "categoriza_funcionarios(funcionarios)"
   ]
  },
  {
   "cell_type": "markdown",
   "metadata": {},
   "source": [
    "## Exercício 7 (DESAFIO)\n",
    "\n",
    "Dado um número inteiro não negativo `x`, retorne a raiz quadrada dele, arredondada para o menor inteiro. O valor retornado inteiro deve ser não-negativo. \n",
    "\n",
    "Você não pode usar nenhuma função ou operador de raiz quadrada, nem de exponenciação ou de arredondamento,ou seja, você não pode usar:\n",
    "`math.sqrt(x)`, `np.round(np.sqrt(x))` ou `x ** 0.5`. \n",
    "\n",
    "Exemplos: \n",
    "\n",
    "x = 4. A raiz quadrada de 4 é 2. Retorne 2.\n",
    "\n",
    "x = 8. A raiz quadrada de 8 é 2.82842... Retorne 2.\n",
    "\n",
    "x = 999. A raiz quadrada de 999 é 31.60696... Retorne 31."
   ]
  },
  {
   "cell_type": "code",
   "execution_count": 31,
   "metadata": {},
   "outputs": [
    {
     "name": "stdout",
     "output_type": "stream",
     "text": [
      "2\n",
      "2\n",
      "31\n"
     ]
    }
   ],
   "source": [
    "def raizquadrada_int(x: int) -> int:\n",
    "    # RESOLVA\n",
    "\n",
    "\n",
    "# Teste (NÃO ALTERAR)\n",
    "print(raizquadrada_int(4)) # 2\n",
    "print(raizquadrada_int(8)) # 2\n",
    "print(raizquadrada_int(999)) # 31"
   ]
  },
  {
   "cell_type": "markdown",
   "metadata": {},
   "source": [
    "## Exercício 8 (Desafio)\n",
    "\n",
    "Considerandos duas strings A e B, desenvolva uma solução que retorne True \n",
    "se a string A pode ser escrita com os caracteres presentes string B. \n",
    "Caso contrário, retorne False. Nem todos os caracteres de B precisam ser usados, \n",
    "mas os caracteres de A precisam estar presentes em B.\n",
    "\n",
    "Cada caractere em B pode ser usado o mesmo número de vezes que aparece em B."
   ]
  },
  {
   "cell_type": "code",
   "execution_count": 33,
   "metadata": {},
   "outputs": [
    {
     "name": "stdout",
     "output_type": "stream",
     "text": [
      "True\n",
      "False\n",
      "True\n",
      "False\n",
      "True\n"
     ]
    }
   ],
   "source": [
    "def anagramas(A: str, B: str) -> bool:\n",
    "    # RESOLVA\n",
    "\n",
    "print(anagramas('abc', 'bac')) # True\n",
    "print(anagramas('abc', 'bad')) # False\n",
    "print(anagramas('listen', 'silent')) # True\n",
    "print(anagramas('hello', 'world')) # False\n",
    "print(anagramas('aa', 'abcda')) # True"
   ]
  },
  {
   "cell_type": "code",
   "execution_count": null,
   "metadata": {},
   "outputs": [],
   "source": []
  }
 ],
 "metadata": {
  "kernelspec": {
   "display_name": ".venv",
   "language": "python",
   "name": "python3"
  },
  "language_info": {
   "codemirror_mode": {
    "name": "ipython",
    "version": 3
   },
   "file_extension": ".py",
   "mimetype": "text/x-python",
   "name": "python",
   "nbconvert_exporter": "python",
   "pygments_lexer": "ipython3",
   "version": "3.12.5"
  }
 },
 "nbformat": 4,
 "nbformat_minor": 2
}
